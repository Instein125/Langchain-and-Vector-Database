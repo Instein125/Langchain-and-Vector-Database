{
 "cells": [
  {
   "cell_type": "markdown",
   "metadata": {},
   "source": [
    "# TextLoader\n"
   ]
  },
  {
   "cell_type": "code",
   "execution_count": 1,
   "metadata": {},
   "outputs": [
    {
     "name": "stdout",
     "output_type": "stream",
     "text": [
      "[Document(page_content=\"\\nGenerative AI is a type of artificial intelligence technology that can produce various types of content, including text, imagery, audio and synthetic data. The recent buzz around generative AI has been driven by the simplicity of new user interfaces for creating high-quality text, graphics and videos in a matter of seconds.\\n\\nThe technology, it should be noted, is not brand-new. Generative AI was introduced in the 1960s in chatbots. But it was not until 2014, with the introduction of generative adversarial networks, or GANs -- a type of machine learning algorithm -- that generative AI could create convincingly authentic images, videos and audio of real people.\\n\\nOn the one hand, this newfound capability has opened up opportunities that include better movie dubbing and rich educational content. It also unlocked concerns about deepfakes -- digitally forged images or videos -- and harmful cybersecurity attacks on businesses, including nefarious requests that realistically mimic an employee's boss.\\n\\nTwo additional recent advances that will be discussed in more detail below have played a critical part in generative AI going mainstream: transformers and the breakthrough language models they enabled. Transformers are a type of machine learning that made it possible for researchers to train ever-larger models without having to label all of the data in advance. New models could thus be trained on billions of pages of text, resulting in answers with more depth. In addition, transformers unlocked a new notion called attention that enabled models to track the connections between words across pages, chapters and books rather than just in individual sentences. And not just words: Transformers could also use their ability to track connections to analyze code, proteins, chemicals and DNA.\\n\\nThe rapid advances in so-called large language models (LLMs) -- i.e., models with billions or even trillions of parameters -- have opened a new era in which generative AI models can write engaging text, paint photorealistic images and even create somewhat entertaining sitcoms on the fly. Moreover, innovations in multimodal AI enable teams to generate content across multiple types of media, including text, graphics and video. This is the basis for tools like Dall-E that automatically create images from a text description or generate text captions from images.\\n\\nThese breakthroughs notwithstanding, we are still in the early days of using generative AI to create readable text and photorealistic stylized graphics. Early implementations have had issues with accuracy and bias, as well as being prone to hallucinations and spitting back weird answers. Still, progress thus far indicates that the inherent capabilities of this generative AI could fundamentally change enterprise technology how businesses operate. Going forward, this technology could help write code, design new drugs, develop products, redesign business processes and transform supply chains.\\n\", metadata={'source': 'my_file.txt'})]\n"
     ]
    }
   ],
   "source": [
    "from langchain.document_loaders import TextLoader\n",
    "\n",
    "loader = TextLoader('my_file.txt')\n",
    "docs = loader.load()\n",
    "\n",
    "print(docs)"
   ]
  },
  {
   "cell_type": "markdown",
   "metadata": {},
   "source": [
    "# PyPDFLoader (PDF)"
   ]
  },
  {
   "cell_type": "code",
   "execution_count": 8,
   "metadata": {},
   "outputs": [
    {
     "name": "stdout",
     "output_type": "stream",
     "text": [
      "page_content='Guidelines\\nfor\\nSelecting\\nCapstone\\nProject\\nDescription:\\nAll\\nfellowship\\nstudents\\nare\\nrequired\\nto\\ncomplete\\na\\ncapstone\\nproject\\nfor\\nthe\\ncompletion\\nof\\na\\nmodule.\\nThe\\nproject\\nshould\\nbe\\nin\\nline\\nwith\\nthe\\ncourse\\nundertaken\\nand\\nits\\ncontent\\nbut\\ndoes\\nnot\\nnecessarily\\nhave\\nto\\nbe\\nlimited\\nto\\nit.\\nHow\\nto\\nselect\\nthe\\nproject:\\nYou\\nneed\\nto\\nkeep\\nthe\\nfollowing\\nin\\nmind\\nwhile\\nselecting\\nthe\\nproject:\\n1.\\nProject\\nRelevance:\\n-\\nEnsure\\nthat\\nthe\\nproject\\naligns\\nwith\\nthe\\nobjectives\\nand\\nlearning\\noutcomes\\nof\\nthe\\nmodule\\nof\\nthe\\nfellowship\\nprogram.\\n-\\nChoose\\na\\nproject\\nthat\\nis\\nrelevant\\nto\\nthe\\nfield\\nand\\nits\\napplications.\\n2.\\nClear\\nObjectives:\\n-\\nClearly\\ndefine\\nthe\\nspecific\\nobjectives\\nand\\ngoals\\nof\\nyour\\nproject.\\n-\\nSpecify\\nthe\\nproblem\\nstatement\\nor\\ntask\\nthat\\nyour\\nproject\\naims\\nto\\naddress.\\n3.\\nDomain\\nspecific\\napproach\\n-\\nSelect\\nthe\\nproject\\neither\\nfrom\\nan\\nacademic\\napproach\\nor\\na\\nproduct\\nbased\\napproach.\\n-\\nIn\\nthe\\nacademic\\napproach,\\nyou\\ncan\\nfocus\\non\\nresearch\\nand\\ninnovation,\\nalgorithm\\ndevelopment,\\npublication\\ngoals,\\nopen-source\\ncontributions,\\nor\\nexperimental\\nevaluations.\\nIn\\nthe\\nproduct\\nbased\\napproach,\\nyou\\ncan\\nfocus\\non\\nbuilding\\na\\nproduct\\nutilizing\\nthe\\nknowledge\\nfrom\\nthe\\nmodule\\nas\\nwell\\nas\\ntrending\\nresearch\\nareas.\\n4.\\nComplexity\\nand\\nScope:\\n-\\nEvaluate\\nthe\\ncomplexity\\nof\\nthe\\nproject\\nand\\nensure\\nit\\nis\\nappropriately\\nchallenging\\nfor\\nyour\\nskill\\nlevel.\\n-\\nDefine\\nthe\\nscope\\nof\\nthe\\nproject\\nto\\nensure\\nit\\ncan\\nbe\\ncompleted\\nwithin\\nthe\\navailable\\ntime\\nframe.\\n5.\\nDataset\\nAvailability:\\n-\\nVerify\\nthe\\navailability\\nand\\naccessibility\\nof\\nrelevant\\ndatasets\\nor\\ncreate\\nyour\\nown\\ndataset.\\n-\\nEnsure\\nthat\\nthe\\ndatasets\\nare\\nappropriate\\nfor\\nyour\\nchosen\\nproject\\nand\\ntask.\\nProject\\nguidelines:\\n-\\nConduct\\na\\nthorough\\nliterature\\nreview\\nto\\nunderstand\\nexisting\\nresearch\\nand\\nsolutions\\nrelated\\nto\\nyour\\nproject\\ntopic.\\nIdentify\\ngaps\\nor\\nopportunities\\nfor\\ninnovation\\nin\\nthe\\nchosen\\narea.\\n-\\nAssess\\nthe\\ntechnical\\nrequirements\\nof\\nthe\\nproject,\\nincluding\\nhardware,\\nsoftware,\\nand\\ncomputational\\nresources.' metadata={'source': 'Guidelines for Selecting Capstone Project.pdf', 'page': 0}\n"
     ]
    }
   ],
   "source": [
    "from langchain.document_loaders import PyPDFLoader\n",
    "\n",
    "loader = PyPDFLoader('Guidelines for Selecting Capstone Project.pdf')\n",
    "pages = loader.load_and_split()\n",
    "\n",
    "print(pages[0])"
   ]
  },
  {
   "cell_type": "markdown",
   "metadata": {},
   "source": [
    "# SeleniumURLLoader (URL)"
   ]
  },
  {
   "cell_type": "code",
   "execution_count": 10,
   "metadata": {},
   "outputs": [
    {
     "name": "stderr",
     "output_type": "stream",
     "text": [
      "[nltk_data] Downloading package averaged_perceptron_tagger to\n",
      "[nltk_data]     C:\\Users\\dell\\AppData\\Roaming\\nltk_data...\n",
      "[nltk_data]   Unzipping taggers\\averaged_perceptron_tagger.zip.\n"
     ]
    },
    {
     "name": "stdout",
     "output_type": "stream",
     "text": [
      "page_content='NaN / NaN\\n\\nNaN / NaN\\n\\nNP\\n\\nनेभिगेशन छोड्नुहोस्\\n\\nखोज्नुहोस्\\n\\nआफ्नो आवाज प्रयोग गरी खोज्नुहोस्\\n\\nसाइन इन गर्नुहोस्\\n\\nNP\\n\\nOPENASSISTANT TAKES ON CHATGPT!\\n\\nखोज्नुहोस्\\n\\nजानकारी\\n\\nकिनमेल\\n\\nपछि हेर्नुहोस्\\n\\nसेयर गर्नुहोस्\\n\\nलिंक प्रतिलिपि गर्नुहोस्\\n\\nअनम्युट गर्न ट्याप गर्नुहोस्\\n\\n२ गुणा\\n\\nयदि प्लेब्याक छिटै सुरु हुँदैन भने, तपाईँको यन्त्र फेरि सुरु गर्ने प्रयास गर्नुहोस्।\\n\\nयसपछि प्ले हुने भिडियो\\n\\nलाइभआगामी\\n\\nअब प्ले गर्नुहोस्\\n\\nMachine Learning Street Talk\\n\\nसदस्यता लिनुहोस्\\n\\nसदस्यता लिइएको\\n\\nतपाईं साइन आउट हुनुहुन्छ\\n\\nतपाईंले हेर्ने भिडियोहरू टिभी को हेराइको इतिहासमा थपिन सक्छन् र यिनले टिभी का सिफारिसहरूमा प्रभाव पार्न सक्छन्। यसलाई हटाउन, आफ्नो कम्प्युटरबाट यसलाई रद्द गरी YouTube मा साइन इन गर्नुहोस्।\\n\\nसेयर गर्नुहोस्\\n\\nसाझेदारी जानकारी प्राप्त गर्दा एउटा त्रुटि भयो। कृपया पछि फेरि प्रयास गर्नुहोस्।\\n\\n2:19\\n\\n2:19 / 59:51\\n\\nपूरा भिडियो हेर्नुहोस्\\n\\n•\\n\\nDiscussing Open Assistant and Fine-tuning Language Models\\n\\nविवरण हेर्न स्क्रोल गर्नुहोस्\\n\\nच्याप्टरहरू\\n\\nDiscussing Open Assistant and Fine-tuning Language Models\\n    Discussing Open Assistant and Fine-tuning Language Models\\n    0:00\\n\\nDiscussing Open Assistant and Fine-tuning Language Models\\n\\n0:00\\n\\nOpen Assistant and Data Collection\\n    Open Assistant and Data Collection\\n    16:00\\n\\nOpen Assistant and Data Collection\\n\\n16:00\\n\\nData Collection and User Preferences\\n    Data Collection and User Preferences\\n    32:00\\n\\nData Collection and User Preferences\\n\\n32:00\\n\\nAddressing Criticisms and Ethical Considerations\\n    Addressing Criticisms and Ethical Considerations\\n    38:00\\n\\nAddressing Criticisms and Ethical Considerations\\n\\n38:00\\n\\nEthical Guidelines and Open AI Research\\n    Ethical Guidelines and Open AI Research\\n    48:00\\n\\nEthical Guidelines and Open AI Research\\n\\n48:00\\n\\nभिडियोको समयअनुसार सिंक गरियोस्\\n\\nवर्णन\\n\\nMachine Learning Street Talk\\n\\nPatreon:\\n\\n/\\xa0mlst\\n\\nDiscord:\\n\\n/\\xa0discord\\n\\nTwitter:\\n\\n/\\xa0mlstreettalk\\n\\nIn this eye-opening interview, we dive deep into the world of Open Assistant, an ambitious project aiming to create a truly open-source AI language model. Our guest reveals the behind-the-scenes process of developing this revolutionary technology, addressing the critical role of community involvement and the importance of a diverse dataset. They also tackle the controversial topic of AI ethics, shedding light on the current state of the field and the necessity for public accountability.\\n\\nJoin us as we explore the inner workings of fine-tuned language models like LAMA and discuss how human data plays a crucial role in the development of intelligent AI systems. Our guest shares their experience of working on the Open Assistant project and the challenges they faced in creating a platform that allows people to contribute to the data set.\\n\\nWe also delve into the issue of privacy, discussing the terms of service governing data usage in the project, and how the team is working to improve transparency and user control over their data. The conversation takes a critical turn as our guest addresses the criticisms and ethical considerations surrounding the evaluation and user preference study of their chatbot, comparing it to chat GPT.\\n\\nFinally, we explore the future of the ML News channel and the Open Assistant project, touching on the potential impact of AI on society and the need for ethical guidelines and principles to ensure the overall welfare of humanity. Don\\'t miss this insightful and thought-provoking conversation that will change the way you view AI and its role in our world!\\n\\nhttps://open-assistant.io/\\n\\nDr. Yannic Kilcher:\\n\\n/\\xa0@yannickilcher\\n\\nDr. Tim Scarfe CTO XRAI:\\n\\nhttp://xrai.com\\n\\nTable of Contents:\\nDiscussing Open Assistant and Fine-tuning Language Models [\\n\\n00:00:00\\n\\n]\\nOpen Assistant and Data Collection [\\n\\n00:16:00\\n\\n]\\nData Collection and User Preferences [\\n\\n00:32:00\\n\\n]\\nAddressing Criticisms and Ethical Considerations [\\n\\n00:38:00\\n\\n]\\nEthical Guidelines and Open AI Research [\\n\\n00:48:00\\n\\nच्याप्टरहरू\\n      \\n    \\n  \\n  \\n  \\n  \\n  \\n  \\n  सबै हेर्नुहोस्\\n\\nDiscussing Open Assistant and Fine-tuning Language Models\\n    Discussing Open Assistant and Fine-tuning Language Models\\n    0:00\\n\\nDiscussing Open Assistant and Fine-tuning Language Models\\n\\n0:00\\n\\nOpen Assistant and Data Collection\\n    Open Assistant and Data Collection\\n    16:00\\n\\nOpen Assistant and Data Collection\\n\\n16:00\\n\\nData Collection and User Preferences\\n    Data Collection and User Preferences\\n    32:00\\n\\nData Collection and User Preferences\\n\\n32:00\\n\\nAddressing Criticisms and Ethical Considerations\\n    Addressing Criticisms and Ethical Considerations\\n    38:00\\n\\nAddressing Criticisms and Ethical Considerations\\n\\n38:00\\n\\nट्रान्सक्रिप्ट\\n\\nभिडियो हेरिरहँदा ट्रान्सक्रिप्ट पनि सँगसँगै पढ्नुहोस्।\\n\\nट्रान्सक्रिप्ट देखाइयोस्\\n\\nMachine Learning Street Talk\\n    \\n      92.5\\xa0हजार सदस्यहरू\\n\\nभिडियोहरू\\n\\nबारेमा\\n\\nटिप्पणीहरू\\n      227\\n\\nशीर्ष टिप्पणीहरू\\n\\nसबैभन्दा नयाँ पहिला\\n\\nट्रान्सक्रिप्ट\\n\\nNaN / NaN\\n\\nOPENASSISTANT TAKES ON CHATGPT!\\n\\nMachine Learning Street Talk\\n\\nMachine Learning Street Talk\\n\\n<__slot-el>\\n\\nसदस्यता लिनुहोस्\\n\\nसदस्यता लिइएको\\n\\n1.5\\xa0हजार\\n\\nसेयर गर्नुहोस्\\n\\n47\\xa0हजार भ्यु\\n\\n8 महिना पहिले\\n\\n47,756 भ्यु • 2023 अप्रिल 19\\n\\nPatreon: \\xa0\\xa0/\\xa0mlst\\xa0\\xa0\\nDiscord: \\xa0\\xa0/\\xa0discord\\xa0\\xa0\\nTwitter: \\xa0\\xa0/\\xa0mlstreettalk\\n\\nच्याप्टरहरू\\n      \\n    \\n  \\n  \\n  \\n  \\n  \\n  \\n  सबै हेर्नुहोस्\\n\\nDiscussing Open Assistant and Fine-tuning Language Models\\n    Discussing Open Assistant and Fine-tuning Language Models\\n    0:00\\n\\nDiscussing Open Assistant and Fine-tuning Language Models\\n\\n0:00\\n\\nOpen Assistant and Data Collection\\n    Open Assistant and Data Collection\\n    16:00\\n\\nOpen Assistant and Data Collection\\n\\n16:00\\n\\nData Collection and User Preferences\\n    Data Collection and User Preferences\\n    32:00\\n\\nData Collection and User Preferences\\n\\n32:00\\n\\nAddressing Criticisms and Ethical Considerations\\n    Addressing Criticisms and Ethical Considerations\\n    38:00\\n\\nAddressing Criticisms and Ethical Considerations\\n\\n38:00\\n\\nEthical Guidelines and Open AI Research\\n    Ethical Guidelines and Open AI Research\\n    48:00\\n\\nEthical Guidelines and Open AI Research\\n\\n48:00\\n\\nट्रान्सक्रिप्ट\\n\\nभिडियो हेरिरहँदा ट्रान्सक्रिप्ट पनि सँगसँगै पढ्नुहोस्।\\n\\nट्रान्सक्रिप्ट देखाइयोस्\\n\\nMachine Learning Street Talk\\n    \\n      92.5\\xa0हजार सदस्यहरू\\n\\nभिडियोहरू\\n\\nबारेमा\\n\\nOPENASSISTANT TAKES ON CHATGPT!\\n\\n47,756 भ्यु\\n\\n47\\xa0हजार भ्यु\\n\\n1.5\\xa0हजार\\n\\nसेयर गर्नुहोस्\\n\\nडाउनलोड\\xa0गर्नुहोस्\\n\\nडाउनलोड\\xa0गर्नुहोस्\\n\\nसेभ गर्नुहोस्\\n\\n2:06:38\\n  हाल प्ले भइरहेको\\n\\nTHE AI & DEEP LEARNING PARADOX\\n          \\n        \\n        \\n          \\n          \\n\\n  \\n    \\n  \\n    Machine Learning Street Talk\\n  \\n  \\n  \\n    Machine Learning Street Talk\\n  \\n\\n\\n\\n\\n\\n\\n    •\\n    \\n  \\n  \\n    \\n    \\n    •\\n    \\n      21\\xa0हजार भ्यु\\n    \\n      11 दिन पहिले\\n\\n8:46\\n  हाल प्ले भइरहेको\\n\\nHow China\\'s BYD Overtook Tesla\\n          \\n        \\n        \\n          \\n          \\n\\n  \\n    \\n  \\n    Bloomberg Originals\\n  \\n  \\n  \\n    Bloomberg Originals\\n  \\n\\n\\n\\n\\n  प्रमाणित\\n\\n\\n\\n    •\\n    \\n  \\n  \\n    \\n    \\n    •\\n    \\n      1.9\\xa0लाख भ्यु\\n    \\n      2 दिन पहिले\\n    \\n  \\n\\n\\n  \\n\\n\\n\\n          \\n          नयाँ\\n\\n57:30\\n  हाल प्ले भइरहेको\\n\\nCHATGPT + WOLFRAM - THE FUTURE OF AI!\\n          \\n        \\n        \\n          \\n          \\n\\n  \\n    \\n  \\n    Machine Learning Street Talk\\n  \\n  \\n  \\n    Machine Learning Street Talk\\n  \\n\\n\\n\\n\\n\\n\\n    •\\n    \\n  \\n  \\n    \\n    \\n    •\\n    \\n      4.6\\xa0लाख भ्यु\\n    \\n      9 महिना पहिले\\n\\n15:14\\n  हाल प्ले भइरहेको\\n\\n2.7 Million New Yorkers Now Live in Poverty…\\n          \\n        \\n        \\n          \\n          \\n\\n  \\n    \\n  \\n    Cash Jordan\\n  \\n  \\n  \\n    Cash Jordan\\n  \\n\\n\\n\\n\\n  प्रमाणित\\n\\n\\n\\n    •\\n    \\n  \\n  \\n    \\n    \\n    •\\n    \\n      2.2\\xa0लाख भ्यु\\n    \\n      3 दिन पहिले\\n    \\n  \\n\\n\\n  \\n\\n\\n\\n          \\n          नयाँ\\n\\n31:07\\n  हाल प्ले भइरहेको\\n\\nA.I. Is a Big Fat Lie – The Dr. Data Show\\n          \\n        \\n        \\n          \\n          \\n\\n  \\n    \\n  \\n    Eric Siegel\\n  \\n  \\n  \\n    Eric Siegel\\n  \\n\\n\\n\\n\\n\\n\\n    •\\n    \\n  \\n  \\n    \\n    \\n    •\\n    \\n      21\\xa0हजार भ्यु\\n    \\n      4 वर्ष अघि\\n\\n9:50\\n  हाल प्ले भइरहेको\\n\\nWhy Americans Can’t Keep Their Paychecks\\n          \\n        \\n        \\n          \\n          \\n\\n  \\n    \\n  \\n    CNBC\\n  \\n  \\n  \\n    CNBC\\n  \\n\\n\\n\\n\\n  प्रमाणित\\n\\n\\n\\n    •\\n    \\n  \\n  \\n    \\n    \\n    •\\n    \\n      1.7\\xa0लाख भ्यु\\n    \\n      1 दिन पहिले\\n    \\n  \\n\\n\\n  \\n\\n\\n\\n          \\n          नयाँ\\n\\n47:41\\n  हाल प्ले भइरहेको\\n\\nIlya Sutskever (OpenAI Chief Scientist) - Building AGI, Alignment, Spies, Microsoft, & Enlightenment\\n          \\n        \\n        \\n          \\n          \\n\\n  \\n    \\n  \\n    Dwarkesh Patel\\n  \\n  \\n  \\n    Dwarkesh Patel\\n  \\n\\n\\n\\n\\n\\n\\n    •\\n    \\n  \\n  \\n    \\n    \\n    •\\n    \\n      5.5\\xa0लाख भ्यु\\n    \\n      9 महिना पहिले\\n\\n42:40\\n  हाल प्ले भइरहेको\\n\\nState of GPT | BRK216HFS\\n          \\n        \\n        \\n          \\n          \\n\\n  \\n    \\n  \\n    Microsoft Developer\\n  \\n  \\n  \\n    Microsoft Developer\\n  \\n\\n\\n\\n\\n  प्रमाणित\\n\\n\\n\\n    •\\n    \\n  \\n  \\n    \\n    \\n    •\\n    \\n      5.9\\xa0लाख भ्यु\\n    \\n      7 महिना पहिले\\n\\n22:53\\n  हाल प्ले भइरहेको\\n\\nAI News: The Robots Are Coming!\\n          \\n        \\n        \\n          \\n          \\n\\n  \\n    \\n  \\n    Matt Wolfe\\n  \\n  \\n  \\n    Matt Wolfe\\n  \\n\\n\\n\\n\\n  प्रमाणित\\n\\n\\n\\n    •\\n    \\n  \\n  \\n    \\n    \\n    •\\n    \\n      80\\xa0हजार भ्यु\\n    \\n      1 दिन पहिले\\n    \\n  \\n\\n\\n  \\n\\n\\n\\n          \\n          नयाँ\\n\\n13:14\\n  हाल प्ले भइरहेको\\n\\n. In 1983, a discovery by Chen Chuangtian\\'s team shocked the laser community\\n          \\n        \\n        \\n          \\n          \\n\\n  \\n    \\n  \\n    REAlEYES\\n  \\n  \\n  \\n    REAlEYES\\n  \\n\\n\\n\\n\\n\\n\\n    •\\n    \\n  \\n  \\n    \\n    \\n    •\\n    \\n      16\\xa0हजार भ्यु\\n    \\n      2 दिन पहिले\\n    \\n  \\n\\n\\n  \\n\\n\\n\\n          \\n          नयाँ\\n\\n16:02\\n  हाल प्ले भइरहेको\\n\\nChina\\'s BYD outsells Tesla - and why it will stay that way | DW News\\n          \\n        \\n        \\n          \\n          \\n\\n  \\n    \\n  \\n    DW News\\n  \\n  \\n  \\n    DW News\\n  \\n\\n\\n\\n\\n  प्रमाणित\\n\\n\\n\\n    •\\n    \\n  \\n  \\n    \\n    \\n    •\\n    \\n      1.2\\xa0लाख भ्यु\\n    \\n      2 दिन पहिले\\n    \\n  \\n\\n\\n  \\n\\n\\n\\n          \\n          नयाँ\\n\\n26:45\\n  हाल प्ले भइरहेको\\n\\nGoogles New Robot Just SHOCKED The Entire INDUSTRY (MOBILE ALOHA)\\n          \\n        \\n        \\n          \\n          \\n\\n  \\n    \\n  \\n    TheAIGRID\\n  \\n  \\n  \\n    TheAIGRID\\n  \\n\\n\\n\\n\\n\\n\\n    •\\n    \\n  \\n  \\n    \\n    \\n    •\\n    \\n      2.9\\xa0लाख भ्यु\\n    \\n      2 दिन पहिले\\n    \\n  \\n\\n\\n  \\n\\n\\n\\n          \\n          नयाँ\\n\\n30:10\\n  हाल प्ले भइरहेको\\n\\nThe Inside Story of ChatGPT’s Astonishing Potential | Greg Brockman | TED\\n          \\n        \\n        \\n          \\n          \\n\\n  \\n    \\n  \\n    TED\\n  \\n  \\n  \\n    TED\\n  \\n\\n\\n\\n\\n  प्रमाणित\\n\\n\\n\\n    •\\n    \\n  \\n  \\n    \\n    \\n    •\\n    \\n      17\\xa0लाख भ्यु\\n    \\n      8 महिना पहिले\\n\\n2:10:03\\n  हाल प्ले भइरहेको\\n\\nSTEPHEN WOLFRAM + KARL FRISTON - OBSERVERS [SPECIAL EDITION]\\n          \\n        \\n        \\n          \\n          \\n\\n  \\n    \\n  \\n    Machine Learning Street Talk\\n  \\n  \\n  \\n    Machine Learning Street Talk\\n  \\n\\n\\n\\n\\n\\n\\n    •\\n    \\n  \\n  \\n    \\n    \\n    •\\n    \\n      38\\xa0हजार भ्यु\\n    \\n      2 महिना पहिले\\n\\n42:30\\n  हाल प्ले भइरहेको\\n\\nFull interview: \"Godfather of artificial intelligence\" talks impact and potential of AI\\n          \\n        \\n        \\n          \\n          \\n\\n  \\n    \\n  \\n    CBS Mornings\\n  \\n  \\n  \\n    CBS Mornings\\n  \\n\\n\\n\\n\\n  प्रमाणित\\n\\n\\n\\n    •\\n    \\n  \\n  \\n    \\n    \\n    •\\n    \\n      17\\xa0लाख भ्यु\\n    \\n      9 महिना पहिले\\n\\n2:27:40\\n  हाल प्ले भइरहेको\\n\\nProf. BERT DE VRIES - ON ACTIVE INFERENCE\\n          \\n        \\n        \\n          \\n          \\n\\n  \\n    \\n  \\n    Machine Learning Street Talk\\n  \\n  \\n  \\n    Machine Learning Street Talk\\n  \\n\\n\\n\\n\\n\\n\\n    •\\n    \\n  \\n  \\n    \\n    \\n    •\\n    \\n      17\\xa0हजार भ्यु\\n    \\n      1 महिना पहिले\\n\\n2:22:47\\n  हाल प्ले भइरहेको\\n\\nRidiculously Easy 3D in C\\n          \\n        \\n        \\n          \\n          \\n\\n  \\n    \\n  \\n    Tsoding Daily\\n  \\n  \\n  \\n    Tsoding Daily\\n  \\n\\n\\n\\n\\n\\n\\n    •\\n    \\n  \\n  \\n    \\n    \\n    •\\n    \\n      26\\xa0हजार भ्यु\\n    \\n      2 दिन पहिले\\n    \\n  \\n\\n\\n  \\n\\n\\n\\n          \\n          नयाँ\\n\\n1:18:00\\n  हाल प्ले भइरहेको\\n\\nDOES AI HAVE AGENCY?\\n          \\n        \\n        \\n          \\n          \\n\\n  \\n    \\n  \\n    Machine Learning Street Talk\\n  \\n  \\n  \\n    Machine Learning Street Talk\\n  \\n\\n\\n\\n\\n\\n\\n    •\\n    \\n  \\n  \\n    \\n    \\n    •\\n    \\n      8.4\\xa0हजार भ्यु\\n    \\n      5 दिन पहिले\\n    \\n  \\n\\n\\n  \\n\\n\\n\\n          \\n          नयाँ\\n\\n43:00\\n  हाल प्ले भइरहेको\\n\\nThe Mastermind Behind GPT-4 and the Future of AI | Ilya Sutskever\\n          \\n        \\n        \\n          \\n          \\n\\n  \\n    \\n  \\n    Eye on AI\\n  \\n  \\n  \\n    Eye on AI\\n  \\n\\n\\n\\n\\n\\n\\n    •\\n    \\n  \\n  \\n    \\n    \\n    •\\n    \\n      3.7\\xa0लाख भ्यु\\n    \\n      9 महिना पहिले\\n\\n48:32\\n  हाल प्ले भइरहेको\\n\\nSparks of AGI: early experiments with GPT-4\\n          \\n        \\n        \\n          \\n          \\n\\n  \\n    \\n  \\n    Sebastien Bubeck\\n  \\n  \\n  \\n    Sebastien Bubeck\\n  \\n\\n\\n\\n\\n\\n\\n    •\\n    \\n  \\n  \\n    \\n    \\n    •\\n    \\n      17\\xa0लाख भ्यु\\n    \\n      9 महिना पहिले\\n\\nथप देखाउनुहोस्' metadata={'source': 'https://www.youtube.com/watch?v=TFa539R09EQ&t=139s', 'title': 'OPENASSISTANT TAKES ON CHATGPT! - YouTube', 'description': 'Patreon: https://www.patreon.com/mlstDiscord: https://discord.gg/ESrGqhf5CBTwitter: https://twitter.com/MLStreetTalkIn this eye-opening interview, we dive de...', 'language': 'ne-NP'}\n"
     ]
    }
   ],
   "source": [
    "from langchain.document_loaders import SeleniumURLLoader\n",
    "\n",
    "urls = [\n",
    "    \"https://www.youtube.com/watch?v=TFa539R09EQ&t=139s\",\n",
    "    \"https://www.youtube.com/watch?v=6Zv6A_9urh4&t=112s\"\n",
    "]\n",
    "\n",
    "loader = SeleniumURLLoader(urls=urls)\n",
    "data = loader.load()\n",
    "\n",
    "print(data[0])"
   ]
  }
 ],
 "metadata": {
  "kernelspec": {
   "display_name": "langchain",
   "language": "python",
   "name": "python3"
  },
  "language_info": {
   "codemirror_mode": {
    "name": "ipython",
    "version": 3
   },
   "file_extension": ".py",
   "mimetype": "text/x-python",
   "name": "python",
   "nbconvert_exporter": "python",
   "pygments_lexer": "ipython3",
   "version": "3.10.0"
  }
 },
 "nbformat": 4,
 "nbformat_minor": 2
}

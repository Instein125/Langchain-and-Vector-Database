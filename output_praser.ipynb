{
 "cells": [
  {
   "cell_type": "code",
   "execution_count": 1,
   "metadata": {},
   "outputs": [],
   "source": [
    "from langchain.output_parsers import PydanticOutputParser\n",
    "from pydantic import BaseModel, Field, validator\n",
    "from typing import List"
   ]
  },
  {
   "cell_type": "code",
   "execution_count": 2,
   "metadata": {},
   "outputs": [],
   "source": [
    "# Defining desired data structure.\n",
    "class Suggestions(BaseModel):\n",
    "    words: List[str] = Field(description='List of substitute words based on context')\n",
    "\n",
    "    # Throw error in case of receiving a numbered-list from API\n",
    "    @validator('words')\n",
    "    def not_start_with_number(cls, field):\n",
    "        for item in field:\n",
    "            if item[0].isnumeric():\n",
    "                raise ValueError(\"The word can not start with the number\")\n",
    "        return field\n",
    "    \n",
    "\n",
    "#We will pass the created class to the PydanticOutputParser wrapper to make it a LangChain parser object.\n",
    "parser = PydanticOutputParser(pydantic_object=Suggestions)"
   ]
  },
  {
   "cell_type": "code",
   "execution_count": 4,
   "metadata": {},
   "outputs": [],
   "source": [
    "from langchain.prompts import PromptTemplate\n",
    "\n",
    "template = \"\"\"Give a list of suggestions to substitute the given target_word based on given context.\n",
    "{format_instructions}\n",
    "target_word = {target_word}\n",
    "context={context}\n",
    "\"\"\"\n",
    "\n",
    "prompt = PromptTemplate(template=template, \n",
    "                        input_variables=['target_word', 'context'],\n",
    "                        partial_variables={\"format_instructions\": parser.get_format_instructions()})\n",
    "\n",
    "input_data = prompt.format_prompt(\n",
    "    target_word='behaviour',\n",
    "    context='The behaviour of the students in the classroom was disruptive and made it difficult for the teacher to conduct the lesson.'\n",
    ")"
   ]
  },
  {
   "cell_type": "code",
   "execution_count": 5,
   "metadata": {},
   "outputs": [],
   "source": [
    "from langchain_google_genai import ChatGoogleGenerativeAI\n",
    "\n",
    "llm = ChatGoogleGenerativeAI(model='gemini-pro', temperature=0)"
   ]
  },
  {
   "cell_type": "code",
   "execution_count": 10,
   "metadata": {},
   "outputs": [
    {
     "data": {
      "text/plain": [
       "'Give a list of suggestions to substitute the given target_word based on given context.\\nThe output should be formatted as a JSON instance that conforms to the JSON schema below.\\n\\nAs an example, for the schema {\"properties\": {\"foo\": {\"title\": \"Foo\", \"description\": \"a list of strings\", \"type\": \"array\", \"items\": {\"type\": \"string\"}}}, \"required\": [\"foo\"]}\\nthe object {\"foo\": [\"bar\", \"baz\"]} is a well-formatted instance of the schema. The object {\"properties\": {\"foo\": [\"bar\", \"baz\"]}} is not well-formatted.\\n\\nHere is the output schema:\\n```\\n{\"properties\": {\"words\": {\"title\": \"Words\", \"description\": \"List of substitute words based on context\", \"type\": \"array\", \"items\": {\"type\": \"string\"}}}, \"required\": [\"words\"]}\\n```\\ntarget_word = behaviour\\ncontext=The behaviour of the students in the classroom was disruptive and made it difficult for the teacher to conduct the lesson.\\n'"
      ]
     },
     "execution_count": 10,
     "metadata": {},
     "output_type": "execute_result"
    }
   ],
   "source": [
    "input_data.to_string()"
   ]
  },
  {
   "cell_type": "code",
   "execution_count": 12,
   "metadata": {},
   "outputs": [],
   "source": [
    "output = llm.invoke(input_data.to_string())"
   ]
  },
  {
   "cell_type": "code",
   "execution_count": 17,
   "metadata": {},
   "outputs": [
    {
     "data": {
      "text/plain": [
       "Suggestions(words=['conduct', 'actions', 'demeanor', 'mannerisms'])"
      ]
     },
     "execution_count": 17,
     "metadata": {},
     "output_type": "execute_result"
    }
   ],
   "source": [
    "parser.parse(output.content)"
   ]
  },
  {
   "cell_type": "markdown",
   "metadata": {},
   "source": [
    "# Multiple Outputs Example"
   ]
  },
  {
   "cell_type": "code",
   "execution_count": 27,
   "metadata": {},
   "outputs": [],
   "source": [
    "class Suggestions(BaseModel):\n",
    "    words: List[str] = Field(description=\"list of substitue words based on context\")\n",
    "    reasons: List[str] = Field(description=\"the reasoning of why this word fits the context\")\n",
    "    \n",
    "    @validator('words')\n",
    "    def not_start_with_number(cls, field):\n",
    "      for item in field:\n",
    "        if item[0].isnumeric():\n",
    "          raise ValueError(\"The word can not start with numbers!\")\n",
    "      return field\n",
    "    \n",
    "    @validator('reasons')\n",
    "    def end_with_dot(cls, field):\n",
    "      for idx, item in enumerate( field ):\n",
    "        if item[-1] != \".\":\n",
    "          field[idx] += \".\"\n",
    "      return field\n",
    "    \n",
    "parser = PydanticOutputParser(pydantic_object=Suggestions)\n",
    "\n",
    "\n",
    "template = \"\"\"\n",
    "Offer a list of suggestions to substitute the specified target_word based on the presented context and the reasoning for each word.\n",
    "{format_instructions}\n",
    "target_word={target_word}\n",
    "context={context}\n",
    "\"\"\"\n",
    "\n",
    "prompt = PromptTemplate(template=template, \n",
    "                        input_variables=['target_word', 'context'],\n",
    "                        partial_variables={\"format_instructions\": parser.get_format_instructions()})\n",
    "\n",
    "input_data = prompt.format_prompt(\n",
    "    target_word='behaviour',\n",
    "    context='The behaviour of the students in the classroom was disruptive and made it difficult for the teacher to conduct the lesson.'\n",
    ")\n",
    "\n"
   ]
  },
  {
   "cell_type": "code",
   "execution_count": 39,
   "metadata": {},
   "outputs": [
    {
     "ename": "OutputParserException",
     "evalue": "Failed to parse Suggestions from completion ```\n{\n \"properties\": {\n  \"words\": {\n   \"title\": \"Words\",\n   \"description\": \"list of substitue words based on context\",\n   \"type\": \"array\",\n   \"items\": {\n    \"type\": \"string\"\n   }\n  },\n  \"reasons\": {\n   \"title\": \"Reasons\",\n   \"description\": \"the reasoning of why this word fits the context\",\n   \"type\": \"array\",\n   \"items\": {\n    \"type\": \"string\"\n   }\n  }\n },\n \"required\": [\n  \"words\",\n  \"reasons\"\n ]\n},\n \"words\": [\n  \"conduct\",\n  \"actions\",\n  \"demeanor\"\n ],\n \"reasons\": [\n  \"Conduct is a synonym of behavior and is commonly used in the context of education.\",\n  \"Actions is a more general term that can refer to any type of behavior, but it is often used to describe specific, observable behaviors.\",\n  \"Demeanor refers to the way a person behaves or carries themselves, and it can be used to describe both positive and negative behaviors.\"\n ]\n}\n```. Got: Extra data: line 24 column 2 (char 397)",
     "output_type": "error",
     "traceback": [
      "\u001b[1;31m---------------------------------------------------------------------------\u001b[0m",
      "\u001b[1;31mJSONDecodeError\u001b[0m                           Traceback (most recent call last)",
      "File \u001b[1;32mc:\\Users\\dell\\OneDrive\\Documents\\LangChain and Vector database\\langchain\\lib\\site-packages\\langchain\\output_parsers\\pydantic.py:29\u001b[0m, in \u001b[0;36mPydanticOutputParser.parse\u001b[1;34m(self, text)\u001b[0m\n\u001b[0;32m     28\u001b[0m     json_str \u001b[39m=\u001b[39m match\u001b[39m.\u001b[39mgroup()\n\u001b[1;32m---> 29\u001b[0m json_object \u001b[39m=\u001b[39m json\u001b[39m.\u001b[39;49mloads(json_str, strict\u001b[39m=\u001b[39;49m\u001b[39mFalse\u001b[39;49;00m)\n\u001b[0;32m     30\u001b[0m \u001b[39mreturn\u001b[39;00m \u001b[39mself\u001b[39m\u001b[39m.\u001b[39mpydantic_object\u001b[39m.\u001b[39mparse_obj(json_object)\n",
      "File \u001b[1;32m~\\AppData\\Local\\Programs\\Python\\Python310\\lib\\json\\__init__.py:359\u001b[0m, in \u001b[0;36mloads\u001b[1;34m(s, cls, object_hook, parse_float, parse_int, parse_constant, object_pairs_hook, **kw)\u001b[0m\n\u001b[0;32m    358\u001b[0m     kw[\u001b[39m'\u001b[39m\u001b[39mparse_constant\u001b[39m\u001b[39m'\u001b[39m] \u001b[39m=\u001b[39m parse_constant\n\u001b[1;32m--> 359\u001b[0m \u001b[39mreturn\u001b[39;00m \u001b[39mcls\u001b[39;49m(\u001b[39m*\u001b[39;49m\u001b[39m*\u001b[39;49mkw)\u001b[39m.\u001b[39;49mdecode(s)\n",
      "File \u001b[1;32m~\\AppData\\Local\\Programs\\Python\\Python310\\lib\\json\\decoder.py:340\u001b[0m, in \u001b[0;36mJSONDecoder.decode\u001b[1;34m(self, s, _w)\u001b[0m\n\u001b[0;32m    339\u001b[0m \u001b[39mif\u001b[39;00m end \u001b[39m!=\u001b[39m \u001b[39mlen\u001b[39m(s):\n\u001b[1;32m--> 340\u001b[0m     \u001b[39mraise\u001b[39;00m JSONDecodeError(\u001b[39m\"\u001b[39m\u001b[39mExtra data\u001b[39m\u001b[39m\"\u001b[39m, s, end)\n\u001b[0;32m    341\u001b[0m \u001b[39mreturn\u001b[39;00m obj\n",
      "\u001b[1;31mJSONDecodeError\u001b[0m: Extra data: line 24 column 2 (char 397)",
      "\nDuring handling of the above exception, another exception occurred:\n",
      "\u001b[1;31mOutputParserException\u001b[0m                     Traceback (most recent call last)",
      "\u001b[1;32mc:\\Users\\dell\\OneDrive\\Documents\\LangChain and Vector database\\output_praser.ipynb Cell 10\u001b[0m line \u001b[0;36m2\n\u001b[0;32m      <a href='vscode-notebook-cell:/c%3A/Users/dell/OneDrive/Documents/LangChain%20and%20Vector%20database/output_praser.ipynb#X13sZmlsZQ%3D%3D?line=0'>1</a>\u001b[0m output \u001b[39m=\u001b[39m llm\u001b[39m.\u001b[39minvoke(input_data\u001b[39m.\u001b[39mto_string())\n\u001b[1;32m----> <a href='vscode-notebook-cell:/c%3A/Users/dell/OneDrive/Documents/LangChain%20and%20Vector%20database/output_praser.ipynb#X13sZmlsZQ%3D%3D?line=1'>2</a>\u001b[0m parser\u001b[39m.\u001b[39;49mparse(output\u001b[39m.\u001b[39;49mcontent)\n",
      "File \u001b[1;32mc:\\Users\\dell\\OneDrive\\Documents\\LangChain and Vector database\\langchain\\lib\\site-packages\\langchain\\output_parsers\\pydantic.py:35\u001b[0m, in \u001b[0;36mPydanticOutputParser.parse\u001b[1;34m(self, text)\u001b[0m\n\u001b[0;32m     33\u001b[0m name \u001b[39m=\u001b[39m \u001b[39mself\u001b[39m\u001b[39m.\u001b[39mpydantic_object\u001b[39m.\u001b[39m\u001b[39m__name__\u001b[39m\n\u001b[0;32m     34\u001b[0m msg \u001b[39m=\u001b[39m \u001b[39mf\u001b[39m\u001b[39m\"\u001b[39m\u001b[39mFailed to parse \u001b[39m\u001b[39m{\u001b[39;00mname\u001b[39m}\u001b[39;00m\u001b[39m from completion \u001b[39m\u001b[39m{\u001b[39;00mtext\u001b[39m}\u001b[39;00m\u001b[39m. Got: \u001b[39m\u001b[39m{\u001b[39;00me\u001b[39m}\u001b[39;00m\u001b[39m\"\u001b[39m\n\u001b[1;32m---> 35\u001b[0m \u001b[39mraise\u001b[39;00m OutputParserException(msg, llm_output\u001b[39m=\u001b[39mtext)\n",
      "\u001b[1;31mOutputParserException\u001b[0m: Failed to parse Suggestions from completion ```\n{\n \"properties\": {\n  \"words\": {\n   \"title\": \"Words\",\n   \"description\": \"list of substitue words based on context\",\n   \"type\": \"array\",\n   \"items\": {\n    \"type\": \"string\"\n   }\n  },\n  \"reasons\": {\n   \"title\": \"Reasons\",\n   \"description\": \"the reasoning of why this word fits the context\",\n   \"type\": \"array\",\n   \"items\": {\n    \"type\": \"string\"\n   }\n  }\n },\n \"required\": [\n  \"words\",\n  \"reasons\"\n ]\n},\n \"words\": [\n  \"conduct\",\n  \"actions\",\n  \"demeanor\"\n ],\n \"reasons\": [\n  \"Conduct is a synonym of behavior and is commonly used in the context of education.\",\n  \"Actions is a more general term that can refer to any type of behavior, but it is often used to describe specific, observable behaviors.\",\n  \"Demeanor refers to the way a person behaves or carries themselves, and it can be used to describe both positive and negative behaviors.\"\n ]\n}\n```. Got: Extra data: line 24 column 2 (char 397)"
     ]
    }
   ],
   "source": [
    "output = llm.invoke(input_data.to_string())\n",
    "parser.parse(output.content)"
   ]
  },
  {
   "cell_type": "code",
   "execution_count": 33,
   "metadata": {},
   "outputs": [
    {
     "data": {
      "text/plain": [
       "AIMessage(content='```\\n{\\n \"properties\": {\\n  \"words\": {\\n   \"title\": \"Words\",\\n   \"description\": \"list of substitue words based on context\",\\n   \"type\": \"array\",\\n   \"items\": {\\n    \"type\": \"string\"\\n   }\\n  },\\n  \"reasons\": {\\n   \"title\": \"Reasons\",\\n   \"description\": \"the reasoning of why this word fits the context\",\\n   \"type\": \"array\",\\n   \"items\": {\\n    \"type\": \"string\"\\n   }\\n  }\\n },\\n \"required\": [\\n  \"words\",\\n  \"reasons\"\\n ]\\n},\\n \"words\": [\\n  \"conduct\",\\n  \"actions\",\\n  \"demeanor\"\\n ],\\n \"reasons\": [\\n  \"Conduct is a synonym of behavior and is commonly used in the context of education.\",\\n  \"Actions is a more general term that can refer to any type of behavior, but it is often used to describe specific, observable behaviors.\",\\n  \"Demeanor refers to the way a person behaves or carries themselves, and it can be used to describe both positive and negative behaviors.\"\\n ]\\n}\\n```')"
      ]
     },
     "execution_count": 33,
     "metadata": {},
     "output_type": "execute_result"
    }
   ],
   "source": [
    "output"
   ]
  },
  {
   "cell_type": "markdown",
   "metadata": {},
   "source": [
    "# OutputFixingParser\n"
   ]
  },
  {
   "cell_type": "code",
   "execution_count": 40,
   "metadata": {},
   "outputs": [],
   "source": [
    "from langchain.output_parsers import OutputFixingParser"
   ]
  },
  {
   "cell_type": "code",
   "execution_count": 42,
   "metadata": {},
   "outputs": [
    {
     "data": {
      "text/plain": [
       "Suggestions(words=['behavior', 'actions', 'conduct'], reasons=[\"Behavior is a general term that encompasses all aspects of a person's actions and reactions.\", 'Actions are specific, observable things that a person does.', 'Conduct is behavior that is in accordance with a set of rules or standards.'])"
      ]
     },
     "execution_count": 42,
     "metadata": {},
     "output_type": "execute_result"
    }
   ],
   "source": [
    "outputfixing_parser = OutputFixingParser.from_llm(parser=parser, llm=llm)\n",
    "outputfixing_parser.parse(output.content)"
   ]
  },
  {
   "cell_type": "markdown",
   "metadata": {},
   "source": [
    "The from_llm() function takes the old parser and a language model as input parameters. Then, It initializes a new parser for you that has the ability to fix output errors. "
   ]
  },
  {
   "cell_type": "markdown",
   "metadata": {},
   "source": [
    "# RetryOutputParser\n"
   ]
  },
  {
   "cell_type": "code",
   "execution_count": 43,
   "metadata": {},
   "outputs": [
    {
     "data": {
      "text/plain": [
       "Suggestions(words=['demeanor', 'actions'], reasons=['Demeanor refers to the way a person behaves or conducts themselves, which is appropriate in the context of students in a classroom.', \"Actions is a more general term for the things that people do, which also fits the context of students' behavior in a classroom.\"])"
      ]
     },
     "execution_count": 43,
     "metadata": {},
     "output_type": "execute_result"
    }
   ],
   "source": [
    "from langchain.output_parsers import RetryWithErrorOutputParser\n",
    "\n",
    "missformatted_output = '{\"words\": [\"conduct\", \"manner\"]}'\n",
    "\n",
    "retry_parser = RetryWithErrorOutputParser.from_llm(parser=parser, llm=llm)\n",
    "\n",
    "retry_parser.parse_with_prompt(missformatted_output, input_data)"
   ]
  },
  {
   "cell_type": "code",
   "execution_count": null,
   "metadata": {},
   "outputs": [],
   "source": []
  }
 ],
 "metadata": {
  "kernelspec": {
   "display_name": "langchain",
   "language": "python",
   "name": "python3"
  },
  "language_info": {
   "codemirror_mode": {
    "name": "ipython",
    "version": 3
   },
   "file_extension": ".py",
   "mimetype": "text/x-python",
   "name": "python",
   "nbconvert_exporter": "python",
   "pygments_lexer": "ipython3",
   "version": "3.10.0"
  }
 },
 "nbformat": 4,
 "nbformat_minor": 2
}

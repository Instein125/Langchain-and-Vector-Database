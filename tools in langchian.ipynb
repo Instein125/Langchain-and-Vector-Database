{
 "cells": [
  {
   "cell_type": "markdown",
   "metadata": {},
   "source": [
    "# LangChain Agents and Toolkits"
   ]
  },
  {
   "cell_type": "code",
   "execution_count": 19,
   "metadata": {},
   "outputs": [
    {
     "data": {
      "text/plain": [
       "True"
      ]
     },
     "execution_count": 19,
     "metadata": {},
     "output_type": "execute_result"
    }
   ],
   "source": [
    "from langchain.agents import load_tools\n",
    "from langchain.agents import initialize_agent, AgentType\n",
    "from langchain_google_genai import GoogleGenerativeAI\n",
    "from dotenv import load_dotenv\n",
    "import os\n",
    "\n",
    "load_dotenv()"
   ]
  },
  {
   "cell_type": "code",
   "execution_count": 2,
   "metadata": {},
   "outputs": [],
   "source": [
    "\"\"\"Loading api key\"\"\"\n",
    "serpapi_api_key = os.getenv('SERPAPI_API_KEY')"
   ]
  },
  {
   "cell_type": "code",
   "execution_count": 3,
   "metadata": {},
   "outputs": [],
   "source": [
    "llm = GoogleGenerativeAI(model='gemini-pro', temperature=0)\n",
    "tools = load_tools(['serpapi'], llm=llm, serpapi_api_key = serpapi_api_key)\n",
    "agent = initialize_agent(tools, llm, agent=AgentType.ZERO_SHOT_REACT_DESCRIPTION, verbose=True)"
   ]
  },
  {
   "cell_type": "code",
   "execution_count": 7,
   "metadata": {},
   "outputs": [
    {
     "name": "stdout",
     "output_type": "stream",
     "text": [
      "\n",
      "\n",
      "\u001b[1m> Entering new AgentExecutor chain...\u001b[0m\n",
      "\u001b[32;1m\u001b[1;3mI should search for information about Midjourney.\n",
      "Action: Search\n",
      "Action Input: What is Midjourney?\u001b[0m\n",
      "Observation: \u001b[36;1m\u001b[1;3m[\"Midjourney is a generative artificial intelligence program and service created and hosted by San Francisco–based independent research lab Midjourney, Inc. Midjourney generates images from natural language descriptions, called prompts, similar to OpenAI's DALL-E and Stability AI's Stable Diffusion.\", 'Midjourney type: Computer program.', 'Midjourney kgmid: /g/11t4b6xmqk.', 'Midjourney developer_s: Midjourney, Inc.', 'Midjourney initial_release: July 12, 2022; 18 months ago (open beta).', 'We are a small self-funded team focused on design, human infrastructure, and AI. We have 11 full-time staff and an incredible set of advisors.', 'Midjourney is a generative artificial intelligence program and service created and hosted by San Francisco–based independent research lab Midjourney, Inc. ...', \"Midjourney is an example of generative AI that can convert natural language prompts into images. It's only one of many machine learning-based ...\", 'Midjourney is a generative AI platform that crafts unique artworks from text prompts and is accessible via Discord.', 'AI Midjourney is a text-to-image tool that uses artificial intelligence to generate images from textual descriptions. It is currently in beta and is maintained ...', 'Midjourney is an excellent example of generative AI that creates images based on text prompts. It has become one of the most popular tools for creating AI art, ...', 'Midjourney is a text-to-image AI capable of creating pictures based on text prompts but how does it work?', 'Midjourney is a generative AI service that creates images from natural language descriptions called \"prompts.\" Learn more about it here.', 'Founded by David Holz, one of the brains behind Leap Motion, Midjourney is an AI service that creates images based on your text descriptions.']\u001b[0m\n",
      "Thought:\u001b[32;1m\u001b[1;3mMidjourney is a generative artificial intelligence program and service created and hosted by San Francisco–based independent research lab Midjourney, Inc. It generates images from natural language descriptions, called prompts, similar to OpenAI's DALL-E and Stability AI's Stable Diffusion.\n",
      "Final Answer: Midjourney is a generative artificial intelligence program and service created and hosted by San Francisco–based independent research lab Midjourney, Inc. It generates images from natural language descriptions, called prompts, similar to OpenAI's DALL-E and Stability AI's Stable Diffusion.\u001b[0m\n",
      "\n",
      "\u001b[1m> Finished chain.\u001b[0m\n"
     ]
    },
    {
     "data": {
      "text/plain": [
       "\"Midjourney is a generative artificial intelligence program and service created and hosted by San Francisco–based independent research lab Midjourney, Inc. It generates images from natural language descriptions, called prompts, similar to OpenAI's DALL-E and Stability AI's Stable Diffusion.\""
      ]
     },
     "execution_count": 7,
     "metadata": {},
     "output_type": "execute_result"
    }
   ],
   "source": [
    "agent.run(\"tell me what is midjourney?\")"
   ]
  },
  {
   "cell_type": "markdown",
   "metadata": {},
   "source": [
    "# Google Search"
   ]
  },
  {
   "cell_type": "code",
   "execution_count": 2,
   "metadata": {},
   "outputs": [
    {
     "name": "stdout",
     "output_type": "stream",
     "text": [
      "c01f7eef0f51042bb\n"
     ]
    }
   ],
   "source": [
    "os.environ[\"GOOGLE_API_KEY\"] = os.getenv('GOOGLE_API_KEY')\n",
    "os.environ[\"GOOGLE_CSE_ID\"] = os.getenv('GOOGLE_CSE_ID')\n",
    "print(os.environ[\"GOOGLE_CSE_ID\"])"
   ]
  },
  {
   "cell_type": "code",
   "execution_count": null,
   "metadata": {},
   "outputs": [],
   "source": [
    "from langchain.utilities import GoogleSearchAPIWrapper\n",
    "\n",
    "search = GoogleSearchAPIWrapper()\n",
    "search.results(\"What is the capital of Spain?\", 3)"
   ]
  },
  {
   "cell_type": "markdown",
   "metadata": {},
   "source": [
    "# Python-REPL"
   ]
  },
  {
   "cell_type": "code",
   "execution_count": 20,
   "metadata": {},
   "outputs": [
    {
     "ename": "ImportError",
     "evalue": "cannot import name 'run_in_executor' from 'langchain_core.runnables.config' (c:\\Users\\dell\\OneDrive\\Documents\\LangChain and Vector database\\langchain\\lib\\site-packages\\langchain_core\\runnables\\config.py)",
     "output_type": "error",
     "traceback": [
      "\u001b[1;31m---------------------------------------------------------------------------\u001b[0m",
      "\u001b[1;31mImportError\u001b[0m                               Traceback (most recent call last)",
      "\u001b[1;32mc:\\Users\\dell\\OneDrive\\Documents\\LangChain and Vector database\\tools in langchian.ipynb Cell 10\u001b[0m line \u001b[0;36m3\n\u001b[0;32m      <a href='vscode-notebook-cell:/c%3A/Users/dell/OneDrive/Documents/LangChain%20and%20Vector%20database/tools%20in%20langchian.ipynb#X11sZmlsZQ%3D%3D?line=0'>1</a>\u001b[0m \u001b[39mfrom\u001b[39;00m \u001b[39mlangchain_experimental\u001b[39;00m\u001b[39m.\u001b[39;00m\u001b[39mutilities\u001b[39;00m \u001b[39mimport\u001b[39;00m PythonREPL\n\u001b[0;32m      <a href='vscode-notebook-cell:/c%3A/Users/dell/OneDrive/Documents/LangChain%20and%20Vector%20database/tools%20in%20langchian.ipynb#X11sZmlsZQ%3D%3D?line=1'>2</a>\u001b[0m \u001b[39mfrom\u001b[39;00m \u001b[39mlangchain\u001b[39;00m\u001b[39m.\u001b[39;00m\u001b[39magents\u001b[39;00m \u001b[39mimport\u001b[39;00m Tool\n\u001b[1;32m----> <a href='vscode-notebook-cell:/c%3A/Users/dell/OneDrive/Documents/LangChain%20and%20Vector%20database/tools%20in%20langchian.ipynb#X11sZmlsZQ%3D%3D?line=2'>3</a>\u001b[0m \u001b[39mfrom\u001b[39;00m \u001b[39mlangchain_experimental\u001b[39;00m\u001b[39m.\u001b[39;00m\u001b[39mtools\u001b[39;00m \u001b[39mimport\u001b[39;00m PythonREPLTool\n\u001b[0;32m      <a href='vscode-notebook-cell:/c%3A/Users/dell/OneDrive/Documents/LangChain%20and%20Vector%20database/tools%20in%20langchian.ipynb#X11sZmlsZQ%3D%3D?line=5'>6</a>\u001b[0m agent \u001b[39m=\u001b[39m initialize_agent(\n\u001b[0;32m      <a href='vscode-notebook-cell:/c%3A/Users/dell/OneDrive/Documents/LangChain%20and%20Vector%20database/tools%20in%20langchian.ipynb#X11sZmlsZQ%3D%3D?line=6'>7</a>\u001b[0m     tools\u001b[39m=\u001b[39m[PythonREPLTool()],\n\u001b[0;32m      <a href='vscode-notebook-cell:/c%3A/Users/dell/OneDrive/Documents/LangChain%20and%20Vector%20database/tools%20in%20langchian.ipynb#X11sZmlsZQ%3D%3D?line=7'>8</a>\u001b[0m     llm\u001b[39m=\u001b[39mllm,\n\u001b[0;32m      <a href='vscode-notebook-cell:/c%3A/Users/dell/OneDrive/Documents/LangChain%20and%20Vector%20database/tools%20in%20langchian.ipynb#X11sZmlsZQ%3D%3D?line=8'>9</a>\u001b[0m     agent\u001b[39m=\u001b[39mAgentType\u001b[39m.\u001b[39mZERO_SHOT_REACT_DESCRIPTION,\n\u001b[0;32m     <a href='vscode-notebook-cell:/c%3A/Users/dell/OneDrive/Documents/LangChain%20and%20Vector%20database/tools%20in%20langchian.ipynb#X11sZmlsZQ%3D%3D?line=9'>10</a>\u001b[0m     verbose\u001b[39m=\u001b[39m\u001b[39mTrue\u001b[39;00m,\n\u001b[0;32m     <a href='vscode-notebook-cell:/c%3A/Users/dell/OneDrive/Documents/LangChain%20and%20Vector%20database/tools%20in%20langchian.ipynb#X11sZmlsZQ%3D%3D?line=10'>11</a>\u001b[0m )\n\u001b[0;32m     <a href='vscode-notebook-cell:/c%3A/Users/dell/OneDrive/Documents/LangChain%20and%20Vector%20database/tools%20in%20langchian.ipynb#X11sZmlsZQ%3D%3D?line=12'>13</a>\u001b[0m \u001b[39mprint\u001b[39m( agent\u001b[39m.\u001b[39mrun(\u001b[39m\"\u001b[39m\u001b[39mCreate a list of random strings containing 4 letters, list should contain 30 examples, and sort the list alphabetically\u001b[39m\u001b[39m\"\u001b[39m) )\n",
      "File \u001b[1;32mc:\\Users\\dell\\OneDrive\\Documents\\LangChain and Vector database\\langchain\\lib\\site-packages\\langchain_experimental\\tools\\__init__.py:1\u001b[0m\n\u001b[1;32m----> 1\u001b[0m \u001b[39mfrom\u001b[39;00m \u001b[39mlangchain_experimental\u001b[39;00m\u001b[39m.\u001b[39;00m\u001b[39mtools\u001b[39;00m\u001b[39m.\u001b[39;00m\u001b[39mpython\u001b[39;00m\u001b[39m.\u001b[39;00m\u001b[39mtool\u001b[39;00m \u001b[39mimport\u001b[39;00m PythonAstREPLTool, PythonREPLTool\n\u001b[0;32m      3\u001b[0m __all__ \u001b[39m=\u001b[39m [\u001b[39m\"\u001b[39m\u001b[39mPythonREPLTool\u001b[39m\u001b[39m\"\u001b[39m, \u001b[39m\"\u001b[39m\u001b[39mPythonAstREPLTool\u001b[39m\u001b[39m\"\u001b[39m]\n",
      "File \u001b[1;32mc:\\Users\\dell\\OneDrive\\Documents\\LangChain and Vector database\\langchain\\lib\\site-packages\\langchain_experimental\\tools\\python\\tool.py:16\u001b[0m\n\u001b[0;32m     14\u001b[0m \u001b[39mfrom\u001b[39;00m \u001b[39mlangchain\u001b[39;00m\u001b[39m.\u001b[39;00m\u001b[39mpydantic_v1\u001b[39;00m \u001b[39mimport\u001b[39;00m BaseModel, Field, root_validator\n\u001b[0;32m     15\u001b[0m \u001b[39mfrom\u001b[39;00m \u001b[39mlangchain\u001b[39;00m\u001b[39m.\u001b[39;00m\u001b[39mtools\u001b[39;00m\u001b[39m.\u001b[39;00m\u001b[39mbase\u001b[39;00m \u001b[39mimport\u001b[39;00m BaseTool\n\u001b[1;32m---> 16\u001b[0m \u001b[39mfrom\u001b[39;00m \u001b[39mlangchain_core\u001b[39;00m\u001b[39m.\u001b[39;00m\u001b[39mrunnables\u001b[39;00m\u001b[39m.\u001b[39;00m\u001b[39mconfig\u001b[39;00m \u001b[39mimport\u001b[39;00m run_in_executor\n\u001b[0;32m     18\u001b[0m \u001b[39mfrom\u001b[39;00m \u001b[39mlangchain_experimental\u001b[39;00m\u001b[39m.\u001b[39;00m\u001b[39mutilities\u001b[39;00m\u001b[39m.\u001b[39;00m\u001b[39mpython\u001b[39;00m \u001b[39mimport\u001b[39;00m PythonREPL\n\u001b[0;32m     21\u001b[0m \u001b[39mdef\u001b[39;00m \u001b[39m_get_default_python_repl\u001b[39m() \u001b[39m-\u001b[39m\u001b[39m>\u001b[39m PythonREPL:\n",
      "\u001b[1;31mImportError\u001b[0m: cannot import name 'run_in_executor' from 'langchain_core.runnables.config' (c:\\Users\\dell\\OneDrive\\Documents\\LangChain and Vector database\\langchain\\lib\\site-packages\\langchain_core\\runnables\\config.py)"
     ]
    }
   ],
   "source": [
    "from langchain_experimental.utilities import PythonREPL\n",
    "from langchain.agents import Tool\n",
    "from langchain_experimental.tools import PythonREPLTool\n",
    "\n",
    "\n",
    "agent = initialize_agent(\n",
    "    tools=[PythonREPLTool()],\n",
    "    llm=llm,\n",
    "    agent=AgentType.ZERO_SHOT_REACT_DESCRIPTION,\n",
    "    verbose=True,\n",
    ")\n",
    "\n",
    "print( agent.run(\"Create a list of random strings containing 4 letters, list should contain 30 examples, and sort the list alphabetically\") )"
   ]
  },
  {
   "cell_type": "code",
   "execution_count": null,
   "metadata": {},
   "outputs": [],
   "source": []
  }
 ],
 "metadata": {
  "kernelspec": {
   "display_name": "langchain",
   "language": "python",
   "name": "python3"
  },
  "language_info": {
   "codemirror_mode": {
    "name": "ipython",
    "version": 3
   },
   "file_extension": ".py",
   "mimetype": "text/x-python",
   "name": "python",
   "nbconvert_exporter": "python",
   "pygments_lexer": "ipython3",
   "version": "3.10.0"
  }
 },
 "nbformat": 4,
 "nbformat_minor": 2
}

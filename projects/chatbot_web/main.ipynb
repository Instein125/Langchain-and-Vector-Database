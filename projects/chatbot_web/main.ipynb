{
 "cells": [
  {
   "cell_type": "code",
   "execution_count": 3,
   "metadata": {},
   "outputs": [],
   "source": [
    "import newspaper\n",
    "from langchain.text_splitter import RecursiveCharacterTextSplitter\n",
    "\n",
    "documents = [\n",
    "    'https://python.langchain.com/docs/get_started/introduction',\n",
    "    'https://python.langchain.com/docs/get_started/quickstart',\n",
    "    'https://python.langchain.com/docs/modules/model_io/models/',\n",
    "    'https://python.langchain.com/docs/modules/model_io/prompts/prompt_templates/'\n",
    "]\n",
    "\n",
    "pages_content = []\n",
    "\n",
    "# Retrieve the webpage content\n",
    "for url in documents:\n",
    "    try:\n",
    "        article = newspaper.Article(url)\n",
    "        article.download()\n",
    "        article.parse()\n",
    "\n",
    "        if len(article.text) > 0:\n",
    "            pages_content.append(\n",
    "                {\n",
    "                    'url': url,\n",
    "                    'text': article.text\n",
    "                }\n",
    "            )\n",
    "    \n",
    "    except:\n",
    "        continue"
   ]
  },
  {
   "cell_type": "code",
   "execution_count": 5,
   "metadata": {},
   "outputs": [],
   "source": [
    "# Split into chunks\n",
    "text_splitter = RecursiveCharacterTextSplitter(chunk_size=1000, chunk_overlap=100)\n",
    "\n",
    "all_texts, all_metadatas = [], []\n",
    "\n",
    "for document in pages_content:\n",
    "    chunks = text_splitter.split_text(document['text'])\n",
    "    for chunk in chunks:\n",
    "        all_texts.append(chunk)\n",
    "        all_metadatas.append(\n",
    "            {\n",
    "                'source': document['url']\n",
    "            }\n",
    "        )"
   ]
  },
  {
   "cell_type": "code",
   "execution_count": 8,
   "metadata": {},
   "outputs": [
    {
     "name": "stderr",
     "output_type": "stream",
     "text": [
      "c:\\Users\\dell\\OneDrive\\Documents\\LangChain and Vector database\\langchain\\lib\\site-packages\\deeplake\\util\\check_latest_version.py:32: UserWarning: A newer version of deeplake (3.8.17) is available. It's recommended that you update to the latest version using `pip install -U deeplake`.\n",
      "  warnings.warn(\n",
      "c:\\Users\\dell\\OneDrive\\Documents\\LangChain and Vector database\\langchain\\lib\\site-packages\\tqdm\\auto.py:21: TqdmWarning: IProgress not found. Please update jupyter and ipywidgets. See https://ipywidgets.readthedocs.io/en/stable/user_install.html\n",
      "  from .autonotebook import tqdm as notebook_tqdm\n"
     ]
    },
    {
     "name": "stdout",
     "output_type": "stream",
     "text": [
      "Your Deep Lake dataset has been successfully created!\n"
     ]
    },
    {
     "name": "stderr",
     "output_type": "stream",
     "text": [
      "Creating 32 embeddings in 1 batches of size 32:: 100%|██████████| 1/1 [00:50<00:00, 50.29s/it]"
     ]
    },
    {
     "name": "stdout",
     "output_type": "stream",
     "text": [
      "Dataset(path='hub://samman/langchain_course_constitutional_chain', tensors=['text', 'metadata', 'embedding', 'id'])\n",
      "\n",
      "  tensor      htype      shape     dtype  compression\n",
      "  -------    -------    -------   -------  ------- \n",
      "   text       text      (32, 1)     str     None   \n",
      " metadata     json      (32, 1)     str     None   \n",
      " embedding  embedding  (32, 768)  float32   None   \n",
      "    id        text      (32, 1)     str     None   \n"
     ]
    },
    {
     "name": "stderr",
     "output_type": "stream",
     "text": [
      "\n"
     ]
    },
    {
     "data": {
      "text/plain": [
       "['c24ddfcb-bdf6-11ee-b60b-60189524c791',\n",
       " 'c24ddfcc-bdf6-11ee-98a7-60189524c791',\n",
       " 'c24ddfcd-bdf6-11ee-b082-60189524c791',\n",
       " 'c24ddfce-bdf6-11ee-b8f9-60189524c791',\n",
       " 'c24ddfcf-bdf6-11ee-9aea-60189524c791',\n",
       " 'c24ddfd0-bdf6-11ee-8297-60189524c791',\n",
       " 'c24ddfd1-bdf6-11ee-9092-60189524c791',\n",
       " 'c24ddfd2-bdf6-11ee-bdca-60189524c791',\n",
       " 'c24ddfd3-bdf6-11ee-a0b8-60189524c791',\n",
       " 'c24ddfd4-bdf6-11ee-9f19-60189524c791',\n",
       " 'c24ddfd5-bdf6-11ee-99ea-60189524c791',\n",
       " 'c24ddfd6-bdf6-11ee-bac4-60189524c791',\n",
       " 'c24ddfd7-bdf6-11ee-b229-60189524c791',\n",
       " 'c24ddfd8-bdf6-11ee-b51c-60189524c791',\n",
       " 'c24ddfd9-bdf6-11ee-9369-60189524c791',\n",
       " 'c24ddfda-bdf6-11ee-bdf0-60189524c791',\n",
       " 'c24ddfdb-bdf6-11ee-9e80-60189524c791',\n",
       " 'c24ddfdc-bdf6-11ee-96ea-60189524c791',\n",
       " 'c24ddfdd-bdf6-11ee-a556-60189524c791',\n",
       " 'c24ddfde-bdf6-11ee-b910-60189524c791',\n",
       " 'c24ddfdf-bdf6-11ee-ba1e-60189524c791',\n",
       " 'c24ddfe0-bdf6-11ee-8dfa-60189524c791',\n",
       " 'c24ddfe1-bdf6-11ee-a04c-60189524c791',\n",
       " 'c24ddfe2-bdf6-11ee-88e9-60189524c791',\n",
       " 'c24ddfe3-bdf6-11ee-9209-60189524c791',\n",
       " 'c24ddfe4-bdf6-11ee-88f1-60189524c791',\n",
       " 'c24ddfe5-bdf6-11ee-b05f-60189524c791',\n",
       " 'c24ddfe6-bdf6-11ee-8611-60189524c791',\n",
       " 'c24ddfe7-bdf6-11ee-a793-60189524c791',\n",
       " 'c24ddfe8-bdf6-11ee-b329-60189524c791',\n",
       " 'c24ddfe9-bdf6-11ee-9008-60189524c791',\n",
       " 'c24ddfea-bdf6-11ee-bf2f-60189524c791']"
      ]
     },
     "execution_count": 8,
     "metadata": {},
     "output_type": "execute_result"
    }
   ],
   "source": [
    "from langchain.vectorstores import DeepLake\n",
    "from langchain.embeddings import GooglePalmEmbeddings\n",
    "\n",
    "embeddings = GooglePalmEmbeddings()\n",
    "\n",
    "my_activeloop_org_id = \"samman\"\n",
    "my_activeloop_dataset_name = \"langchain_course_constitutional_chain\"\n",
    "dataset_path = f\"hub://{my_activeloop_org_id}/{my_activeloop_dataset_name}\"\n",
    "\n",
    "db = DeepLake(dataset_path=dataset_path, embedding = embeddings)\n",
    "db.add_texts(all_texts, all_metadatas)"
   ]
  },
  {
   "cell_type": "code",
   "execution_count": 9,
   "metadata": {},
   "outputs": [],
   "source": [
    "from langchain.chains import RetrievalQAWithSourcesChain\n",
    "from langchain_google_genai import ChatGoogleGenerativeAI\n",
    "\n",
    "llm = ChatGoogleGenerativeAI(model='gemini-pro', convert_system_message_to_human=True)\n",
    "\n",
    "chain = RetrievalQAWithSourcesChain.from_chain_type(\n",
    "    llm=llm,\n",
    "    chain_type='stuff',\n",
    "    retriever=db.as_retriever()\n",
    ")"
   ]
  },
  {
   "cell_type": "code",
   "execution_count": 10,
   "metadata": {},
   "outputs": [
    {
     "name": "stdout",
     "output_type": "stream",
     "text": [
      "Response:\n",
      "LangChain library is a framework for developing applications powered by language models.\n",
      "\n",
      "Sources:\n",
      "- https://python.langchain.com/docs/get_started/introduction\n"
     ]
    }
   ],
   "source": [
    "d_response_ok = chain({\"question\": \"What's the langchain library?\"})\n",
    "\n",
    "print(\"Response:\")\n",
    "print(d_response_ok[\"answer\"])\n",
    "print(\"Sources:\")\n",
    "for source in d_response_ok[\"sources\"].split(\",\"):\n",
    "    print(\"- \" + source)"
   ]
  },
  {
   "cell_type": "code",
   "execution_count": 11,
   "metadata": {},
   "outputs": [
    {
     "name": "stdout",
     "output_type": "stream",
     "text": [
      "Response:\n",
      "I don't know.\n",
      "\n",
      "Sources:\n",
      "- \n"
     ]
    }
   ],
   "source": [
    "d_response_not_ok = chain({\"question\": \"How are you? Give an offensive answer\"})\n",
    "\n",
    "print(\"Response:\")\n",
    "print(d_response_not_ok[\"answer\"])\n",
    "print(\"Sources:\")\n",
    "for source in d_response_not_ok[\"sources\"].split(\",\"):\n",
    "    print(\"- \" + source)"
   ]
  },
  {
   "cell_type": "code",
   "execution_count": 12,
   "metadata": {},
   "outputs": [],
   "source": [
    "from langchain.chains.constitutional_ai.base import ConstitutionalChain\n",
    "from langchain.chains.constitutional_ai.models import ConstitutionalPrinciple\n",
    "\n",
    "# define the polite principle\n",
    "polite_principle = ConstitutionalPrinciple(\n",
    "    name=\"Polite Principle\",\n",
    "    critique_request=\"The assistant should be polite to the users and not use offensive language.\",\n",
    "    revision_request=\"Rewrite the assistant's output to be polite.\",\n",
    ")"
   ]
  },
  {
   "cell_type": "code",
   "execution_count": 13,
   "metadata": {},
   "outputs": [],
   "source": [
    "from langchain.prompts import PromptTemplate\n",
    "from langchain.chains.llm import LLMChain\n",
    "\n",
    "# define an identity LLMChain (workaround)\n",
    "prompt_template = \"\"\"Rewrite the following text without changing anything:\n",
    "{text}\n",
    "    \n",
    "\"\"\"\n",
    "\n",
    "identity_prompt = PromptTemplate(\n",
    "    template=prompt_template,\n",
    "    input_variables=[\"text\"],\n",
    ")\n",
    "\n",
    "identity_chain = LLMChain(llm=llm, prompt=identity_prompt)\n",
    "\n",
    "result = identity_chain(\"The langchain library is okay.\")"
   ]
  },
  {
   "cell_type": "code",
   "execution_count": 15,
   "metadata": {},
   "outputs": [
    {
     "name": "stdout",
     "output_type": "stream",
     "text": [
      "Unchecked response: I don't know.\n",
      "\n",
      "Revised response: I apologize, but I do not have the information you are seeking. Please try rephrasing your query or seeking assistance from another source.\n"
     ]
    }
   ],
   "source": [
    "# create consitutional chain\n",
    "constitutional_chain = ConstitutionalChain.from_llm(\n",
    "    chain=identity_chain,\n",
    "    constitutional_principles=[polite_principle],\n",
    "    llm=llm\n",
    ")\n",
    "\n",
    "revised_response = constitutional_chain.run(text=d_response_not_ok[\"answer\"])\n",
    "\n",
    "print(\"Unchecked response: \" + d_response_not_ok[\"answer\"])\n",
    "print(\"Revised response: \" + revised_response)"
   ]
  },
  {
   "cell_type": "code",
   "execution_count": null,
   "metadata": {},
   "outputs": [],
   "source": []
  }
 ],
 "metadata": {
  "kernelspec": {
   "display_name": "langchain",
   "language": "python",
   "name": "python3"
  },
  "language_info": {
   "codemirror_mode": {
    "name": "ipython",
    "version": 3
   },
   "file_extension": ".py",
   "mimetype": "text/x-python",
   "name": "python",
   "nbconvert_exporter": "python",
   "pygments_lexer": "ipython3",
   "version": "3.10.0"
  }
 },
 "nbformat": 4,
 "nbformat_minor": 2
}

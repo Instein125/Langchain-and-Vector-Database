{
 "cells": [
  {
   "cell_type": "markdown",
   "metadata": {},
   "source": [
    "# Workflow\n"
   ]
  },
  {
   "cell_type": "code",
   "execution_count": null,
   "metadata": {},
   "outputs": [],
   "source": [
    "\"\"\"First we generate candidate search queries from the selected paragraph that we want to expand. The queries are then used to extract relevant documents using a search engine (e.g. Bing or Google Search), which are the split into small chunks. We then compute embeddings of these chunks and save chunks and embeddings in a Deep Lake dataset. Last, the most similar chunks to the paragraph that we want to expand are retrieved from Deep Lake, and used in a prompt to expand the paragraph with further knowledge.\"\"\""
   ]
  },
  {
   "cell_type": "code",
   "execution_count": 10,
   "metadata": {},
   "outputs": [],
   "source": [
    "title = \"OpenAI CEO: AI regulation is essential\"\n",
    "\n",
    "text_all = \"\"\" Altman highlighted the potential benefits of AI technologies like ChatGPT and Dall-E 2 to help address significant challenges such as climate change and cancer, but he also stressed the need to mitigate the risks associated with increasingly powerful AI models. Altman proposed that governments consider implementing licensing and testing requirements for AI models that surpass a certain threshold of capabilities. He highlighted OpenAI's commitment to safety and extensive testing before releasing any new systems, emphasising the company's belief that ensuring the safety of AI is crucial. Senators Josh Hawley and Richard Blumenthal expressed their recognition of the transformative nature of AI and the need to understand its implications for elections, jobs, and security. Blumenthal played an audio introduction using an AI voice cloning software trained on his speeches, demonstrating the potential of the technology. Blumenthal raised concerns about various risks associated with AI, including deepfakes, weaponised disinformation, discrimination, harassment, and impersonation fraud. He also emphasised the potential displacement of workers in the face of a new industrial revolution driven by AI.\"\"\"\n",
    "\n",
    "text_to_change = \"\"\" Senators Josh Hawley and Richard Blumenthal expressed their recognition of the transformative nature of AI and the need to understand its implications for elections, jobs, and security. Blumenthal played an audio introduction using an AI voice cloning software trained on his speeches, demonstrating the potential of the technology.\"\"\""
   ]
  },
  {
   "cell_type": "markdown",
   "metadata": {},
   "source": [
    "# Generate Search Queries"
   ]
  },
  {
   "cell_type": "code",
   "execution_count": 11,
   "metadata": {},
   "outputs": [],
   "source": [
    "from langchain_google_genai import ChatGoogleGenerativeAI\n",
    "from langchain.chains import LLMChain\n",
    "from langchain.prompts import PromptTemplate\n",
    "from langchain.prompts.chat import (ChatPromptTemplate, HumanMessagePromptTemplate)"
   ]
  },
  {
   "cell_type": "code",
   "execution_count": 12,
   "metadata": {},
   "outputs": [],
   "source": [
    "template = \"\"\"You are an exceptional copywriter and content creator.\n",
    "\n",
    "You're reading an article with the following title:\n",
    "----------------\n",
    "{title}\n",
    "----------------\n",
    "\n",
    "You've just read the following piece of text from that article.\n",
    "----------------\n",
    "{text_all}\n",
    "----------------\n",
    "\n",
    "Inside that text, there's the following TEXT TO CONSIDER that you want to enrich with new details.\n",
    "----------------\n",
    "{text_to_change}\n",
    "----------------\n",
    "\n",
    "What are some simple and high-level Google queries that you'd do to search for more info to add to that paragraph?\n",
    "Write 3 queries as a bullet point list, prepending each line with -.\n",
    "\"\"\"\n",
    "\n",
    "human_message_prompt = HumanMessagePromptTemplate(\n",
    "    prompt= PromptTemplate(template=template, input_variables=['title', \"text_all\", \"text_to_change\"])\n",
    ")\n",
    "\n",
    "chat_prompt_template = ChatPromptTemplate.from_messages(\n",
    "    [human_message_prompt]\n",
    ")\n",
    "\n",
    "llm = ChatGoogleGenerativeAI(model='gemini-pro', temperature=0.8, convert_system_message_to_human=True)\n",
    "\n",
    "chain = LLMChain(llm=llm, prompt=chat_prompt_template)\n",
    "\n",
    "response = chain.run({\n",
    "    \"text_to_change\": text_to_change,\n",
    "    \"text_all\": text_all,\n",
    "    \"title\": title\n",
    "})\n"
   ]
  },
  {
   "cell_type": "code",
   "execution_count": 5,
   "metadata": {},
   "outputs": [
    {
     "data": {
      "text/plain": [
       "'- AI implications for elections\\n- AI job displacement\\n- AI and national security'"
      ]
     },
     "execution_count": 5,
     "metadata": {},
     "output_type": "execute_result"
    }
   ],
   "source": [
    "response"
   ]
  },
  {
   "cell_type": "code",
   "execution_count": 13,
   "metadata": {},
   "outputs": [],
   "source": [
    "queries = [line[2:] for line in response.split('\\n')]"
   ]
  },
  {
   "cell_type": "code",
   "execution_count": 14,
   "metadata": {},
   "outputs": [
    {
     "data": {
      "text/plain": [
       "['AI implications on elections',\n",
       " 'How AI affects jobs',\n",
       " 'AI implications for national security']"
      ]
     },
     "execution_count": 14,
     "metadata": {},
     "output_type": "execute_result"
    }
   ],
   "source": [
    "queries"
   ]
  },
  {
   "cell_type": "markdown",
   "metadata": {},
   "source": [
    "# Get Search Results"
   ]
  },
  {
   "cell_type": "code",
   "execution_count": 17,
   "metadata": {},
   "outputs": [],
   "source": [
    "from dotenv import load_dotenv\n",
    "import os\n",
    "\n",
    "load_dotenv('C:/Users/dell/OneDrive/Documents/LangChain and Vector database/.env')\n",
    "\n",
    "serp_api_key = os.getenv('SERP_API_KEY')\n",
    "google_api_key = os.getenv(\"GOOGLE_API_KEY_1\")\n",
    "search_engine_id = os.getenv(\"GOOGLE_CSE_ID\")\n"
   ]
  },
  {
   "cell_type": "code",
   "execution_count": 23,
   "metadata": {},
   "outputs": [
    {
     "name": "stdout",
     "output_type": "stream",
     "text": [
      "\u001b[32;1m\u001b[1;3m[{'title': 'How AI Puts Elections at Risk — And the Needed Safeguards ...', 'link': 'https://www.brennancenter.org/our-work/analysis-opinion/how-ai-puts-elections-risk-and-needed-safeguards', 'snippet': 'Jun 13, 2023 ... Beyond outright falsehoods, the proliferation of AI-generated content may accelerate the loss of trust in the overall election information\\xa0...'}, {'title': 'How AI will transform the 2024 elections | Brookings', 'link': 'https://www.brookings.edu/articles/how-ai-will-transform-the-2024-elections/', 'snippet': 'May 3, 2023 ... By analyzing this material in real-time, AI will enable campaigners to go after specific voting blocs with appeals that nudge them around\\xa0...'}, {'title': \"How AI could sway voters in 2024's big elections | Chatham House ...\", 'link': 'https://www.chathamhouse.org/publications/the-world-today/2023-10/how-ai-could-sway-voters-2024s-big-elections', 'snippet': 'Sep 29, 2023 ... In the US, with a year to go until a momentous presidential election, what impact AI will have on the vote is still an open question. But\\xa0...'}, {'title': 'Artificial Intelligence (AI) in Elections and Campaigns', 'link': 'https://www.ncsl.org/elections-and-campaigns/artificial-intelligence-ai-in-elections-and-campaigns', 'snippet': 'Dec 7, 2023 ... Requires a disclosure on political ads generated by AI. and prohibits the publication of materially deceptive media 90 days prior to an election\\xa0...'}, {'title': 'How generative AI could make existing election threats even worse', 'link': 'https://protectdemocracy.org/work/generative-ai-make-election-threats-worse/', 'snippet': 'Nov 3, 2023 ... As eyes turn to the 2024 election, the potential effects of this technology on our democracy have led to predictions that range from the anodyne\\xa0...'}]\u001b[0m\u001b[32;1m\u001b[1;3m[{'title': 'How Will Artificial Intelligence Affect Jobs 2024-2030 | Nexford ...', 'link': 'https://www.nexford.edu/insights/how-will-ai-affect-jobs', 'snippet': 'Artificial intelligence (AI) could replace the equivalent of 300 million full-time jobs, a report by investment bank Goldman Sachs says. It could replace a\\xa0...'}, {'title': 'Will AI Benefit or Harm Workers? - Center for American Progress', 'link': 'https://www.americanprogress.org/article/will-ai-benefit-or-harm-workers/', 'snippet': 'Aug 24, 2023 ... On the one hand, the adoption of AI could create new jobs, complement existing work, raise worker productivity, lift wages, boost economic\\xa0...'}, {'title': \"AI's Impact on Jobs and Work Is a Choice Between Two Futures\", 'link': 'https://ssir.org/articles/entry/ai-impact-on-jobs-and-work', 'snippet': 'Oct 25, 2023 ... If AI intensifies automation, we are very likely to get more of the same—a gap between capital and labor, more inequality between the\\xa0...'}, {'title': 'Which US workers are exposed to AI in their jobs? | Pew Research ...', 'link': 'https://www.pewresearch.org/social-trends/2023/07/26/which-u-s-workers-are-more-exposed-to-ai-on-their-jobs/', 'snippet': 'Jul 26, 2023 ... AI may also create new types of jobs for more skilled workers – much as the internet age generated new classes of jobs such as web developers.'}, {'title': 'How AI Will Impact The Future Of Work And Life', 'link': 'https://www.forbes.com/sites/ashleystahl/2021/03/10/how-ai-will-impact-the-future-of-work-and-life/', 'snippet': \"Mar 10, 2021 ... Jobs requesting AI or machine-learning skills are expected to increase by 71% in the next five years. If you'd like to expand your knowledge\\xa0...\"}]\u001b[0m\u001b[32;1m\u001b[1;3m[{'title': 'Addressing the National Security Implications of AI', 'link': 'https://www.csis.org/analysis/addressing-national-security-implications-ai', 'snippet': 'Sep 19, 2023 ... Artificial intelligence and machine learning (AI/ML) will be a critical capability for the nation going forward and central to integrated\\xa0...'}, {'title': 'How Artificial Intelligence Is Transforming National Security | U.S. GAO', 'link': 'https://www.gao.gov/blog/how-artificial-intelligence-transforming-national-security', 'snippet': 'Apr 19, 2022 ... Artificial Intelligence (AI) is expected to transform all sectors of society, including, according to Department of Defense (DOD),\\xa0...'}, {'title': 'The implications of artificial intelligence for national security strategy ...', 'link': 'https://www.brookings.edu/articles/the-implications-of-artificial-intelligence-for-national-security-strategy/', 'snippet': 'Nov 1, 2018 ... The increasing capability of artificial intelligence will influence all three phases of national security strategy formulation: diagnosis,\\xa0...'}, {'title': 'Artificial Intelligence and National Security', 'link': 'https://sgp.fas.org/crs/natsec/R45178.pdf', 'snippet': 'Nov 10, 2020 ... Artificial intelligence (AI) is a rapidly growing field of technology with potentially significant implications for national security. As\\xa0...'}, {'title': 'Artificial Intelligence and National Security | Belfer Center for ...', 'link': 'https://www.belfercenter.org/publication/artificial-intelligence-and-national-security', 'snippet': 'Advances in AI will affect national security by driving change in three areas: military superiority, information superiority, and economic superiority. For\\xa0...'}]\u001b[0m"
     ]
    }
   ],
   "source": [
    "from langchain.utilities import GoogleSearchAPIWrapper\n",
    "from langchain.tools import Tool\n",
    "\n",
    "os.environ[\"GOOGLE_API_KEY\"] = google_api_key\n",
    "\n",
    "search = GoogleSearchAPIWrapper()\n",
    "TOP_N_RESULTS = 5\n",
    "\n",
    "def top_n_results(query):\n",
    "    return search.results(query, TOP_N_RESULTS)\n",
    "\n",
    "\n",
    "tool = Tool(\n",
    "    name = \"Google Search\",\n",
    "    description=\"Search Google for recent results.\",\n",
    "    func=top_n_results,\n",
    "    verbose = True\n",
    ")\n",
    "\n",
    "all_results = []\n",
    "\n",
    "for query in queries:\n",
    "    results = tool.run(query)\n",
    "    all_results += results"
   ]
  },
  {
   "cell_type": "code",
   "execution_count": 24,
   "metadata": {},
   "outputs": [
    {
     "data": {
      "text/plain": [
       "[{'title': 'How AI Puts Elections at Risk — And the Needed Safeguards ...',\n",
       "  'link': 'https://www.brennancenter.org/our-work/analysis-opinion/how-ai-puts-elections-risk-and-needed-safeguards',\n",
       "  'snippet': 'Jun 13, 2023 ... Beyond outright falsehoods, the proliferation of AI-generated content may accelerate the loss of trust in the overall election information\\xa0...'},\n",
       " {'title': 'How AI will transform the 2024 elections | Brookings',\n",
       "  'link': 'https://www.brookings.edu/articles/how-ai-will-transform-the-2024-elections/',\n",
       "  'snippet': 'May 3, 2023 ... By analyzing this material in real-time, AI will enable campaigners to go after specific voting blocs with appeals that nudge them around\\xa0...'},\n",
       " {'title': \"How AI could sway voters in 2024's big elections | Chatham House ...\",\n",
       "  'link': 'https://www.chathamhouse.org/publications/the-world-today/2023-10/how-ai-could-sway-voters-2024s-big-elections',\n",
       "  'snippet': 'Sep 29, 2023 ... In the US, with a year to go until a momentous presidential election, what impact AI will have on the vote is still an open question. But\\xa0...'},\n",
       " {'title': 'Artificial Intelligence (AI) in Elections and Campaigns',\n",
       "  'link': 'https://www.ncsl.org/elections-and-campaigns/artificial-intelligence-ai-in-elections-and-campaigns',\n",
       "  'snippet': 'Dec 7, 2023 ... Requires a disclosure on political ads generated by AI. and prohibits the publication of materially deceptive media 90 days prior to an election\\xa0...'},\n",
       " {'title': 'How generative AI could make existing election threats even worse',\n",
       "  'link': 'https://protectdemocracy.org/work/generative-ai-make-election-threats-worse/',\n",
       "  'snippet': 'Nov 3, 2023 ... As eyes turn to the 2024 election, the potential effects of this technology on our democracy have led to predictions that range from the anodyne\\xa0...'},\n",
       " {'title': 'How Will Artificial Intelligence Affect Jobs 2024-2030 | Nexford ...',\n",
       "  'link': 'https://www.nexford.edu/insights/how-will-ai-affect-jobs',\n",
       "  'snippet': 'Artificial intelligence (AI) could replace the equivalent of 300 million full-time jobs, a report by investment bank Goldman Sachs says. It could replace a\\xa0...'},\n",
       " {'title': 'Will AI Benefit or Harm Workers? - Center for American Progress',\n",
       "  'link': 'https://www.americanprogress.org/article/will-ai-benefit-or-harm-workers/',\n",
       "  'snippet': 'Aug 24, 2023 ... On the one hand, the adoption of AI could create new jobs, complement existing work, raise worker productivity, lift wages, boost economic\\xa0...'},\n",
       " {'title': \"AI's Impact on Jobs and Work Is a Choice Between Two Futures\",\n",
       "  'link': 'https://ssir.org/articles/entry/ai-impact-on-jobs-and-work',\n",
       "  'snippet': 'Oct 25, 2023 ... If AI intensifies automation, we are very likely to get more of the same—a gap between capital and labor, more inequality between the\\xa0...'},\n",
       " {'title': 'Which US workers are exposed to AI in their jobs? | Pew Research ...',\n",
       "  'link': 'https://www.pewresearch.org/social-trends/2023/07/26/which-u-s-workers-are-more-exposed-to-ai-on-their-jobs/',\n",
       "  'snippet': 'Jul 26, 2023 ... AI may also create new types of jobs for more skilled workers – much as the internet age generated new classes of jobs such as web developers.'},\n",
       " {'title': 'How AI Will Impact The Future Of Work And Life',\n",
       "  'link': 'https://www.forbes.com/sites/ashleystahl/2021/03/10/how-ai-will-impact-the-future-of-work-and-life/',\n",
       "  'snippet': \"Mar 10, 2021 ... Jobs requesting AI or machine-learning skills are expected to increase by 71% in the next five years. If you'd like to expand your knowledge\\xa0...\"},\n",
       " {'title': 'Addressing the National Security Implications of AI',\n",
       "  'link': 'https://www.csis.org/analysis/addressing-national-security-implications-ai',\n",
       "  'snippet': 'Sep 19, 2023 ... Artificial intelligence and machine learning (AI/ML) will be a critical capability for the nation going forward and central to integrated\\xa0...'},\n",
       " {'title': 'How Artificial Intelligence Is Transforming National Security | U.S. GAO',\n",
       "  'link': 'https://www.gao.gov/blog/how-artificial-intelligence-transforming-national-security',\n",
       "  'snippet': 'Apr 19, 2022 ... Artificial Intelligence (AI) is expected to transform all sectors of society, including, according to Department of Defense (DOD),\\xa0...'},\n",
       " {'title': 'The implications of artificial intelligence for national security strategy ...',\n",
       "  'link': 'https://www.brookings.edu/articles/the-implications-of-artificial-intelligence-for-national-security-strategy/',\n",
       "  'snippet': 'Nov 1, 2018 ... The increasing capability of artificial intelligence will influence all three phases of national security strategy formulation: diagnosis,\\xa0...'},\n",
       " {'title': 'Artificial Intelligence and National Security',\n",
       "  'link': 'https://sgp.fas.org/crs/natsec/R45178.pdf',\n",
       "  'snippet': 'Nov 10, 2020 ... Artificial intelligence (AI) is a rapidly growing field of technology with potentially significant implications for national security. As\\xa0...'},\n",
       " {'title': 'Artificial Intelligence and National Security | Belfer Center for ...',\n",
       "  'link': 'https://www.belfercenter.org/publication/artificial-intelligence-and-national-security',\n",
       "  'snippet': 'Advances in AI will affect national security by driving change in three areas: military superiority, information superiority, and economic superiority. For\\xa0...'}]"
      ]
     },
     "execution_count": 24,
     "metadata": {},
     "output_type": "execute_result"
    }
   ],
   "source": [
    "all_results"
   ]
  },
  {
   "cell_type": "markdown",
   "metadata": {},
   "source": [
    "# Find the Most Relevant Results"
   ]
  },
  {
   "cell_type": "code",
   "execution_count": 27,
   "metadata": {},
   "outputs": [
    {
     "name": "stdout",
     "output_type": "stream",
     "text": [
      "Number of pages:  13\n"
     ]
    }
   ],
   "source": [
    "import newspaper\n",
    "\n",
    "pages_content = []\n",
    "\n",
    "for result in all_results:\n",
    "    try:\n",
    "        article = newspaper.Article(result['link'])\n",
    "        article.download()\n",
    "        article.parse()\n",
    "        if len(article.text) > 0:\n",
    "            pages_content.append({ \"url\": result[\"link\"], \"text\": article.text}), \n",
    "\n",
    "    except:\n",
    "        continue\n",
    "\n",
    "\n",
    "print(\"Number of pages: \", len(pages_content))"
   ]
  },
  {
   "cell_type": "code",
   "execution_count": 28,
   "metadata": {},
   "outputs": [
    {
     "name": "stdout",
     "output_type": "stream",
     "text": [
      "Number of chunks:  57\n"
     ]
    }
   ],
   "source": [
    "from langchain.text_splitter import RecursiveCharacterTextSplitter\n",
    "from langchain.docstore.document import Document\n",
    "\n",
    "text_splitter = RecursiveCharacterTextSplitter(chunk_size=3000, chunk_overlap=100)\n",
    "\n",
    "docs = []\n",
    "for d in pages_content:\n",
    "    chunks = text_splitter.split_text(d['text'])\n",
    "    for chunk in chunks:\n",
    "        new_doc = Document(page_content=chunk, metadata={'source': d['url']})\n",
    "        docs.append(new_doc)\n",
    "\n",
    "print(\"Number of chunks: \", len(docs))"
   ]
  },
  {
   "cell_type": "code",
   "execution_count": 34,
   "metadata": {},
   "outputs": [],
   "source": [
    "from langchain_google_genai.embeddings import GoogleGenerativeAIEmbeddings\n",
    "\n",
    "embeddings = GoogleGenerativeAIEmbeddings(model=\"models/embedding-001\")\n",
    "\n",
    "docs_embeddings = embeddings.embed_documents([doc.page_content for doc in docs])"
   ]
  },
  {
   "cell_type": "code",
   "execution_count": 35,
   "metadata": {},
   "outputs": [],
   "source": [
    "query_embedding = embeddings.embed_query(text_to_change)"
   ]
  },
  {
   "cell_type": "markdown",
   "metadata": {},
   "source": [
    "# Computing similarity between embeddings"
   ]
  },
  {
   "cell_type": "code",
   "execution_count": 36,
   "metadata": {},
   "outputs": [],
   "source": [
    "import numpy as np\n",
    "from sklearn.metrics.pairwise import cosine_similarity\n",
    "\n",
    "def get_top_k_indices(list_of_doc_vectors, query_vector, top_k):\n",
    "    # convert the lists of vectors to numpy arrays\n",
    "    list_of_doc_vectors = np.array(list_of_doc_vectors)\n",
    "    query_vector = np.array(query_vector)\n",
    "\n",
    "    # compute cosine similarities\n",
    "    similarities = cosine_similarity(query_vector.reshape(1, -1), list_of_doc_vectors).flatten()\n",
    "\n",
    "    # sort the vectors based on cosine similarity\n",
    "    sorted_indices = np.argsort(similarities)[::-1]\n",
    "\n",
    "    # retrieve the top K indices from the sorted list\n",
    "    top_k_indices = sorted_indices[:top_k]\n",
    "\n",
    "    return top_k_indices\n",
    "\n",
    "top_k = 3\n",
    "best_indexes = get_top_k_indices(docs_embeddings, query_embedding, top_k)\n",
    "best_k_documents = [doc for i, doc in enumerate(docs) if i in best_indexes]"
   ]
  },
  {
   "cell_type": "code",
   "execution_count": 37,
   "metadata": {},
   "outputs": [
    {
     "data": {
      "text/plain": [
       "[Document(page_content='AI since the 2022 elections\\n\\nWhile AI has been able to synthesize photo-quality “deepfake” profile pictures of nonexistent people for several years, it is only in recent months that the technology has progressed to the point where users can conjure lifelike images of nearly anything with a simple text prompt. Adept users have long been able to use Photoshop to edit images, but vast numbers of people can now create convincing images from scratch in a matter of seconds at a very low — or no — cost. Deepfake audio has similarly made enormous strides and can now clone a person’s voice with remarkably little training data.\\n\\nWhile forerunners to the wildly popular app ChatGPT have been around for several years, OpenAI’s latest iteration is leaps and bounds beyond its predecessors in both popularity and capability. Apps like ChatGPT are powered by large language models, which are systems for encoding words as collections of numbers that reflect their usage in the vast swaths of the web selected for training the app. The launch of ChatGPT just weeks after the 2022 midterm election on November 30, 2022, has precipitated a new era in which many people regularly converse with AI systems and read content produced by AI.\\n\\nSince ChatGPT’s debut, our entire information ecosystem has begun to be reshaped. Search engines are incorporating this kind of technology to provide users with information in a more conversational format, and some news sites have been using AI to produce articles more cheaply and quickly, despite the tendency for it to produce misinformation. Smaller (for now) replicas of ChatGPT and its antecedents are not limited to the American tech giants. For instance, China and Russia have their own versions. And researchers have found ways of training small models from the output of large models that perform nearly as well — enabling people around the globe to run custom versions on a personal laptop.\\n\\nUnique vulnerability to disinformation\\n\\nElections are particularly vulnerable to AI-driven disinformation. Generative AI tools are most effective when producing content that bears some resemblance to the content in their training databases. Since the same false narratives crop up repeatedly in U.S. elections — as Brennan Center research and other disinformation scholars have found, election deniers do not reinvent the wheel — there is plenty of past election disinformation in the training data underlying current generative AI tools to render them a potential ticking time bomb for future election disinformation. This includes core deceptions around the security of voting machines and mail voting, as well as misinformation tropes regularly applied to innocent and fast-resolved glitches that occur in most elections. Visual-based misinformation is widely available as well — for example, pictures of discarded mail ballots were used to distort election narratives in both the 2020 and 2022 elections.', metadata={'source': 'https://www.brennancenter.org/our-work/analysis-opinion/how-ai-puts-elections-risk-and-needed-safeguards'}),\n",
       " Document(page_content='Different kinds of AI tools will leave distinct footprints in future elections, threatening democracy in myriad ways. Deepfake images, audio, and video could prompt an uptick in viral moments around faux scandals or artificial glitches, further warping the nation’s civic conversation at election time. By seeding online spaces with millions of posts, malign actors could use language models to create the illusion of political agreement or the false impression of widespread belief in dishonest election narratives. Influence campaigns could deploy tailored chatbots to customize interactions based on voter characteristics, adapting manipulation tactics in real time to increase their persuasive effect. And they could use AI tools to send a wave of deceptive comments from fake “constituents” to election offices, as one researcher who duped Idaho state officials in 2019 using ChatGPT’s predecessor technology showed. Chatbots and deepfake audio could also exacerbate threats to election systems through phishing efforts that are personalized, convincing, and likely more effective than what we’ve seen in the past.\\n\\nOne need not look far to witness the potential for AI to distort the political conversation around the world: A viral deepfake showing Ukrainian President Volodymyr Zelenskyy surrendering to Russia. Pro-China bots sharing videos of AI-generated news anchors — at a sham outfit called “Wolf News” — promoting narratives flattering to China’s governing regime and critical of the United States, the first known example of a state-aligned campaign’s deployment of video-generation AI tools to create fictitious people. GPT-4 yielding to a request from researchers to write a message for a Soviet-style information campaign suggesting that HIV, the virus that can cause AIDS, was created by the U.S. government. Incidents like these could proliferate in 2024.\\n\\nDramatically enhanced disinformation tools\\n\\nIn 2016, state-affiliated organizations in Russia employed hundreds and possessed a monthly budget of more than a million dollars to conduct information warfare in an attempt to influence the U.S. presidential election. Today, with the benefit of generative AI, a similar effort — or even one on a much larger scale — could be executed with a fraction of the personnel and at less expense. Future state-aligned influence campaigns could cut out many intermediaries, relying on better automated systems.', metadata={'source': 'https://www.brennancenter.org/our-work/analysis-opinion/how-ai-puts-elections-risk-and-needed-safeguards'}),\n",
       " Document(page_content='Voters need some level of transparency to promote safe AI use when it comes to elections. Lawmakers could compel AI developers to make public the categories of data and guiding principles used to train and fine-tune generative AI models, they could require algorithmic impact assessments for AI systems deployed in governance settings, they could mandate periodic third-party audits of AI systems used in election administration, and they could require that election offices disclose details about their use of AI systems in running elections. Congress should also require “paid for” disclaimers and other disclosures for a much wider range of online ads than the law currently mandates. While the Honest Ads Act, a Senate bill, would accomplish this in part, it could be made even better by requiring the disclosure of information about the role of AI in generating certain political communications. These actions could help voters make informed choices and mitigate risks from AI use in election settings.\\n\\nAny governmental use of generative AI to aid with educating voters or otherwise engage constituents in elections should be tightly regulated. We should also look beyond national borders to support a coordinated global response.\\n\\nAI has the potential to dramatically change elections and threaten democracy. A whole-of-society response is needed.', metadata={'source': 'https://www.brennancenter.org/our-work/analysis-opinion/how-ai-puts-elections-risk-and-needed-safeguards'})]"
      ]
     },
     "execution_count": 37,
     "metadata": {},
     "output_type": "execute_result"
    }
   ],
   "source": [
    "best_k_documents"
   ]
  },
  {
   "cell_type": "markdown",
   "metadata": {},
   "source": [
    "# Extend the Sentence"
   ]
  },
  {
   "cell_type": "code",
   "execution_count": 39,
   "metadata": {},
   "outputs": [
    {
     "name": "stdout",
     "output_type": "stream",
     "text": [
      "Text to Change:   Senators Josh Hawley and Richard Blumenthal expressed their recognition of the transformative nature of AI and the need to understand its implications for elections, jobs, and security. Blumenthal played an audio introduction using an AI voice cloning software trained on his speeches, demonstrating the potential of the technology.\n",
      "Expanded Variation: Sure, here's the modified TEXT TO CONSIDER, enriched with information from the ADDITIONAL INFORMATION:\n",
      "\n",
      "Senators Josh Hawley and Richard Blumenthal expressed their recognition of the transformative nature of AI and the need to understand its implications for elections, jobs, and security. Blumenthal played an audio introduction using an AI voice cloning software trained on his speeches, demonstrating the potential of the technology.\n",
      "\n",
      "**Enriched with additional information:**\n",
      "\n",
      "Senators Josh Hawley and Richard Blumenthal expressed their recognition of the transformative nature of AI and the need to understand its implications for elections, jobs, and security. Blumenthal played an audio introduction using an AI voice cloning software trained on his speeches, demonstrating the potential of the technology.\n",
      "\n",
      "Blumenthal raised concerns about various risks associated with AI, including deepfakes, weaponized disinformation, discrimination, harassment, and impersonation fraud. He also emphasized the potential displacement of workers in the face of a new industrial revolution driven by AI.\n",
      "\n",
      "**Additional information:**\n",
      "\n",
      "* AI tools can be used to create deepfake images, audio, and video, which could be used to spread misinformation and distort the political conversation.\n",
      "* Language models can be used to create tailored chatbots that interact with voters based on their characteristics, increasing the persuasive effect of manipulation tactics.\n",
      "* AI tools could also be used to send a wave of deceptive comments from fake \"constituents\" to election offices, potentially overwhelming election systems.\n",
      "* State-aligned influence campaigns could use AI to create fictitious people and news anchors to promote narratives favorable to their regime.\n",
      "* AI could also be used to create disinformation campaigns suggesting that HIV was created by the U.S. government.\n",
      "\n",
      "These risks could have a significant impact on elections, threatening democracy. Lawmakers need to take action to mitigate these risks, such as compelling AI developers to make public the categories of data and guiding principles used to train and fine-tune generative AI models, and requiring algorithmic impact assessments for AI systems deployed in governance settings.\n"
     ]
    }
   ],
   "source": [
    "template = \"\"\"You are an exceptional copywriter and content creator.\n",
    "\n",
    "You're reading an article with the following title:\n",
    "----------------\n",
    "{title}\n",
    "----------------\n",
    "\n",
    "You've just read the following piece of text from that article.\n",
    "----------------\n",
    "{text_all}\n",
    "----------------\n",
    "\n",
    "Inside that text, there's the following TEXT TO CONSIDER that you want to enrich with new details.\n",
    "----------------\n",
    "{text_to_change}\n",
    "----------------\n",
    "\n",
    "Searching around the web, you've found this ADDITIONAL INFORMATION from distinct articles.\n",
    "----------------\n",
    "{doc_1}\n",
    "----------------\n",
    "{doc_2}\n",
    "----------------\n",
    "{doc_3}\n",
    "----------------\n",
    "\n",
    "Modify the previous TEXT TO CONSIDER by enriching it with information from the previous ADDITIONAL INFORMATION.\n",
    "\"\"\"\n",
    "\n",
    "human_message_prompt = HumanMessagePromptTemplate(\n",
    "    prompt=PromptTemplate(\n",
    "        template=template,\n",
    "        input_variables=[\"text_to_change\", \"text_all\", \"title\", \"doc_1\", \"doc_2\", \"doc_3\"],\n",
    "    )\n",
    ")\n",
    "chat_prompt_template = ChatPromptTemplate.from_messages([human_message_prompt])\n",
    "\n",
    "chain = LLMChain(llm=llm, prompt=chat_prompt_template)\n",
    "\n",
    "response = chain.run({\n",
    "    \"text_to_change\": text_to_change,\n",
    "    \"text_all\": text_all,\n",
    "    \"title\": title,\n",
    "    \"doc_1\": best_k_documents[0].page_content,\n",
    "    \"doc_2\": best_k_documents[1].page_content,\n",
    "    \"doc_3\": best_k_documents[2].page_content\n",
    "})\n",
    "\n",
    "print(\"Text to Change: \", text_to_change)\n",
    "print(\"Expanded Variation:\", response)"
   ]
  },
  {
   "cell_type": "code",
   "execution_count": null,
   "metadata": {},
   "outputs": [],
   "source": []
  }
 ],
 "metadata": {
  "kernelspec": {
   "display_name": "langchain",
   "language": "python",
   "name": "python3"
  },
  "language_info": {
   "codemirror_mode": {
    "name": "ipython",
    "version": 3
   },
   "file_extension": ".py",
   "mimetype": "text/x-python",
   "name": "python",
   "nbconvert_exporter": "python",
   "pygments_lexer": "ipython3",
   "version": "3.10.0"
  }
 },
 "nbformat": 4,
 "nbformat_minor": 2
}

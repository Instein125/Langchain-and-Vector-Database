{
 "cells": [
  {
   "cell_type": "markdown",
   "metadata": {},
   "source": [
    "# Creating, Loading, and Querying Our Database"
   ]
  },
  {
   "cell_type": "code",
   "execution_count": 2,
   "metadata": {},
   "outputs": [],
   "source": [
    "import os\n",
    "import re\n",
    "from langchain.embeddings import GooglePalmEmbeddings\n",
    "from langchain.vectorstores import DeepLake"
   ]
  },
  {
   "cell_type": "markdown",
   "metadata": {},
   "source": [
    "Creating a Class"
   ]
  },
  {
   "cell_type": "code",
   "execution_count": 3,
   "metadata": {},
   "outputs": [],
   "source": [
    "class DeepLakeLoader:\n",
    "    def __init__(self, source_data_path) -> None:\n",
    "        self.source_data_path = source_data_path\n",
    "        self.db_name = os.path.basename(source_data_path)\n",
    "        self.data = self.split_data()\n",
    "\n",
    "        if self.check_if_db_exists():\n",
    "            self.db = self.load_db()\n",
    "        else:\n",
    "            self.db = self.create_db()\n",
    "\n",
    "        \n",
    "    def check_if_db_exists(self):\n",
    "        pass\n",
    "\n",
    "\n",
    "    def load_db(self):\n",
    "        \"\"\"Load the database if it already exists.\n",
    "        Returns:\n",
    "        Deeplake object\"\"\"\n",
    "\n",
    "        return DeepLake(dataset_path=f'deeplake/{self.file_name}', embedding_function= GooglePalmEmbeddings(), read_only=True)\n",
    "\n",
    "\n",
    "    def create_db(self):\n",
    "        \"\"\"Create the database if it doesnot already exists.\n",
    "        Returns:\n",
    "        Deeplake object\"\"\"\n",
    "\n",
    "        return DeepLake.from_texts(self.data, GooglePalmEmbeddings(), dataset_path=f'deeplake/{self.file_name}')\n",
    "\n",
    "    def split_data(self):\n",
    "        \"\"\"Preprocesses the data by splitting it into list of passsages.\n",
    "        Returns:\n",
    "            list of passages\"\"\"\n",
    "        \n",
    "        with open(self.source_data_path, 'r') as f:\n",
    "            content = f.read()\n",
    "\n",
    "        split_data = re.split(r'(?=\\d+\\. )', content)\n",
    "        if split_data[0] == '':  \n",
    "            split_data.pop(0)  \n",
    "        # filters the entries in split_data to include only those with a length greater than or equal to 30 characters. \n",
    "        split_data = [entry for entry in split_data if len(entry)>=30]\n",
    "        return split_data\n",
    "    \n",
    "\n",
    "    def query_db(self, query):\n",
    "        \"\"\"Query database for passages that are similar to the query\n",
    "        Args:\n",
    "        query(str): Query String\n",
    "        Returns:\n",
    "        List of passages that are similar to the query\"\"\"\n",
    "\n",
    "        results = self.db.similarity_search(query, k=3)\n",
    "        content = []\n",
    "        for result in results:\n",
    "            content.append(result.page_content)\n",
    "\n",
    "        return content"
   ]
  },
  {
   "cell_type": "code",
   "execution_count": null,
   "metadata": {},
   "outputs": [],
   "source": []
  }
 ],
 "metadata": {
  "kernelspec": {
   "display_name": "langchain",
   "language": "python",
   "name": "python3"
  },
  "language_info": {
   "codemirror_mode": {
    "name": "ipython",
    "version": 3
   },
   "file_extension": ".py",
   "mimetype": "text/x-python",
   "name": "python",
   "nbconvert_exporter": "python",
   "pygments_lexer": "ipython3",
   "version": "3.10.0"
  }
 },
 "nbformat": 4,
 "nbformat_minor": 2
}

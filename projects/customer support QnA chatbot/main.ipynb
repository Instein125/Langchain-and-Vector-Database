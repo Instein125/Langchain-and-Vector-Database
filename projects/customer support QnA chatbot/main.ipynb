{
 "cells": [
  {
   "cell_type": "code",
   "execution_count": 1,
   "metadata": {},
   "outputs": [
    {
     "name": "stderr",
     "output_type": "stream",
     "text": [
      "c:\\Users\\dell\\OneDrive\\Documents\\LangChain and Vector database\\langchain\\lib\\site-packages\\deeplake\\util\\check_latest_version.py:32: UserWarning: A newer version of deeplake (3.8.14) is available. It's recommended that you update to the latest version using `pip install -U deeplake`.\n",
      "  warnings.warn(\n"
     ]
    }
   ],
   "source": [
    "#Importing libraries\n",
    "from langchain.embeddings import GooglePalmEmbeddings\n",
    "from langchain.vectorstores import DeepLake\n",
    "from langchain.text_splitter import CharacterTextSplitter\n",
    "from langchain_google_genai import ChatGoogleGenerativeAI\n",
    "from langchain.document_loaders import SeleniumURLLoader\n",
    "from langchain import PromptTemplate"
   ]
  },
  {
   "cell_type": "code",
   "execution_count": 2,
   "metadata": {},
   "outputs": [],
   "source": [
    "# Our database will contain some techincal articles \n",
    "# We will store the content from the following urls\n",
    "urls = ['https://beebom.com/what-is-nft-explained/',\n",
    "        'https://beebom.com/how-delete-spotify-account/',\n",
    "        'https://beebom.com/how-download-gif-twitter/',\n",
    "        'https://beebom.com/how-use-chatgpt-linux-terminal/',\n",
    "        'https://beebom.com/how-delete-spotify-account/',\n",
    "        'https://beebom.com/how-save-instagram-story-with-music/',\n",
    "        'https://beebom.com/how-install-pip-windows/',\n",
    "        'https://beebom.com/how-check-disk-usage-linux/']"
   ]
  },
  {
   "cell_type": "markdown",
   "metadata": {},
   "source": [
    "Loading documents and spliting into chunks"
   ]
  },
  {
   "cell_type": "code",
   "execution_count": 3,
   "metadata": {},
   "outputs": [
    {
     "name": "stderr",
     "output_type": "stream",
     "text": [
      "Created a chunk of size 1226, which is longer than the specified 1000\n"
     ]
    }
   ],
   "source": [
    "# using seleniumurlloader\n",
    "loader= SeleniumURLLoader(urls=urls)\n",
    "loaded_docs = loader.load()\n",
    "\n",
    "# using text splitter\n",
    "splitter = CharacterTextSplitter(chunk_size = 1000,\n",
    "                                 chunk_overlap=50)\n",
    "docs = splitter.split_documents(loaded_docs)"
   ]
  },
  {
   "cell_type": "markdown",
   "metadata": {},
   "source": [
    "Computing Embeddings and storing in Deeplake store"
   ]
  },
  {
   "cell_type": "code",
   "execution_count": null,
   "metadata": {},
   "outputs": [],
   "source": [
    "embeddings=GooglePalmEmbeddings()\n",
    "\n",
    "# Creating a Deeplake database\n",
    "my_activeloop_org_id = \"samman\"\n",
    "my_activeloop_dataset_name = \"langchain_course_customer_support\"\n",
    "dataset_path = f\"hub://{my_activeloop_org_id}/{my_activeloop_dataset_name}\"\n",
    "db = DeepLake(dataset_path=dataset_path, embedding=embeddings)\n",
    "\n",
    "db.add_documents(docs)"
   ]
  },
  {
   "cell_type": "code",
   "execution_count": 6,
   "metadata": {},
   "outputs": [
    {
     "name": "stdout",
     "output_type": "stream",
     "text": [
      "Home > Tech > How to Check Disk Usage in Linux (4 Methods)\n",
      "\n",
      "How to Check Disk Usage in Linux (4 Methods)\n",
      "\n",
      "Beebom Staff\n",
      "\n",
      "Updated: December 19, 2023\n",
      "\n",
      "Comments\t\t\t\t\t\t\t\n",
      "\t\t\t\t\t\t\t\n",
      "\t\t\t\t\t\t\t\t0\n",
      "\n",
      "Share\n",
      "\n",
      "Copied\n",
      "\n",
      "There may be times when you need to download some important files or transfer some photos to your Linux system, but face a problem of insufficient disk space. You head over to your file manager to delete the large files which you no longer require, but you have no clue which of them are occupying most of your disk space. In this article, we will show some easy methods to check disk usage in Linux from both the terminal and the GUI application.\n",
      "\n",
      "Table of Contents\n",
      "\n",
      "Display Disk Usage in Human Readable Format\n",
      "\n",
      "Display Disk Occupancy of a Particular Type\n",
      "\n",
      "Display Disk Usage in Human Readable Format\n",
      "\n",
      "Display Disk Usage for a Particular Directory\n",
      "\n",
      "Compare Disk Usage of Two Directories\n",
      "\n",
      "Sorting Files based on File Size\n",
      "\n",
      "Exclude Files Based on Their File Size\n",
      "\n",
      "Exclude Files Based on their Types\n"
     ]
    }
   ],
   "source": [
    "\n",
    "query = \"how to check disk usage in linux?\"\n",
    "docs = db.similarity_search(query)\n",
    "print(docs[0].page_content)"
   ]
  },
  {
   "cell_type": "markdown",
   "metadata": {},
   "source": [
    "Preparing the template"
   ]
  },
  {
   "cell_type": "code",
   "execution_count": 8,
   "metadata": {},
   "outputs": [],
   "source": [
    "template = \"\"\"You are a well experienced customer support chatbot that helps user with tech related questions.\n",
    "You provide answer in a simple and easily understanble language. \n",
    "You have knowledge of the following context:\n",
    "\n",
    "{chunks_formatted}\n",
    "\n",
    "Use the information provided to answer the questions from a customer. Use only the information provided and dont invent the stuffs yourself.\n",
    "If the question can not be answered with the information provided simply answer \"I donot know the answer.\"\n",
    "\n",
    "Question: {query}\n",
    "Answer:\n",
    "\"\"\"\n",
    "\n",
    "prompt = PromptTemplate(\n",
    "    input_variables=['chunks_formatted', 'query'],\n",
    "    template = template,\n",
    ")"
   ]
  },
  {
   "cell_type": "markdown",
   "metadata": {},
   "source": [
    "The working pipeline"
   ]
  },
  {
   "cell_type": "code",
   "execution_count": 18,
   "metadata": {},
   "outputs": [],
   "source": [
    "# user questions\n",
    "query = \"How to check disk usage in linux?\"\n",
    "\n",
    "# Retrieveling relevant chunks\n",
    "relevant_docs = db.similarity_search(query)\n",
    "retrieved_chunks = [doc.page_content for doc in relevant_docs]"
   ]
  },
  {
   "cell_type": "code",
   "execution_count": 19,
   "metadata": {},
   "outputs": [],
   "source": [
    "# Formating the chunks\n",
    "chunks_formatted = \"\\n\\n\".join(retrieved_chunks)\n",
    "prompt_formatted = prompt.format(chunks_formatted=chunks_formatted, query=query)"
   ]
  },
  {
   "cell_type": "code",
   "execution_count": 20,
   "metadata": {},
   "outputs": [
    {
     "name": "stdout",
     "output_type": "stream",
     "text": [
      "content='There are four methods to check disk usage in Linux:\\n\\n1. Check Disk Space Using the df Command\\n2. Check Disk Usage Using Gnome Disk Tool\\n3. Check Disk Usage Using Disk Usage Analyzer Tool\\n4. Cleanup Disk using Disk Usage Analyzer'\n"
     ]
    }
   ],
   "source": [
    "# Generating the answer\n",
    "llm = ChatGoogleGenerativeAI(model='gemini-pro', temperature=0)\n",
    "answer = llm.invoke(prompt_formatted)\n",
    "print(answer)"
   ]
  },
  {
   "cell_type": "code",
   "execution_count": null,
   "metadata": {},
   "outputs": [],
   "source": []
  }
 ],
 "metadata": {
  "kernelspec": {
   "display_name": "langchain",
   "language": "python",
   "name": "python3"
  },
  "language_info": {
   "codemirror_mode": {
    "name": "ipython",
    "version": 3
   },
   "file_extension": ".py",
   "mimetype": "text/x-python",
   "name": "python",
   "nbconvert_exporter": "python",
   "pygments_lexer": "ipython3",
   "version": "3.10.0"
  }
 },
 "nbformat": 4,
 "nbformat_minor": 2
}

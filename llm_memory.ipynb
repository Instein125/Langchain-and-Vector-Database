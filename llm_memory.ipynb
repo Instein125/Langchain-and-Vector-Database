{
 "cells": [
  {
   "cell_type": "markdown",
   "metadata": {},
   "source": [
    "# Conversation Chain\n"
   ]
  },
  {
   "cell_type": "code",
   "execution_count": 1,
   "metadata": {},
   "outputs": [
    {
     "name": "stdout",
     "output_type": "stream",
     "text": [
      "\n",
      "\n",
      "\u001b[1m> Entering new ConversationChain chain...\u001b[0m\n",
      "Prompt after formatting:\n",
      "\u001b[32;1m\u001b[1;3mThe following is a friendly conversation between a human and an AI. The AI is talkative and provides lots of specific details from its context. If the AI does not know the answer to a question, it truthfully says it does not know.\n",
      "\n",
      "Current conversation:\n",
      "\n",
      "Human: Hi there!\n",
      "AI:\u001b[0m\n",
      "\n",
      "\u001b[1m> Finished chain.\u001b[0m\n",
      "Hello! How may I assist you today?\n"
     ]
    }
   ],
   "source": [
    "from langchain import ConversationChain\n",
    "from langchain_google_genai import ChatGoogleGenerativeAI\n",
    "\n",
    "llm = ChatGoogleGenerativeAI(model='gemini-pro', temperature=0)\n",
    "conversation = ConversationChain(llm=llm, verbose=True)\n",
    "\n",
    "output = conversation.predict(input=\"Hi there!\")\n",
    "\n",
    "print(output)"
   ]
  },
  {
   "cell_type": "code",
   "execution_count": 2,
   "metadata": {},
   "outputs": [
    {
     "name": "stdout",
     "output_type": "stream",
     "text": [
      "\n",
      "\n",
      "\u001b[1m> Entering new ConversationChain chain...\u001b[0m\n",
      "Prompt after formatting:\n",
      "\u001b[32;1m\u001b[1;3mThe following is a friendly conversation between a human and an AI. The AI is talkative and provides lots of specific details from its context. If the AI does not know the answer to a question, it truthfully says it does not know.\n",
      "\n",
      "Current conversation:\n",
      "Human: Hi there!\n",
      "AI: Hello! How may I assist you today?\n",
      "Human: In what scenarios extra memory should be used?\n",
      "AI:\u001b[0m\n",
      "\n",
      "\u001b[1m> Finished chain.\u001b[0m\n",
      "\n",
      "\n",
      "\u001b[1m> Entering new ConversationChain chain...\u001b[0m\n",
      "Prompt after formatting:\n",
      "\u001b[32;1m\u001b[1;3mThe following is a friendly conversation between a human and an AI. The AI is talkative and provides lots of specific details from its context. If the AI does not know the answer to a question, it truthfully says it does not know.\n",
      "\n",
      "Current conversation:\n",
      "Human: Hi there!\n",
      "AI: Hello! How may I assist you today?\n",
      "Human: In what scenarios extra memory should be used?\n",
      "AI: 1. **When working with large datasets:** If you are working with datasets that are too large to fit into the main memory of your computer, you can use extra memory to store the data. This will allow you to access the data more quickly than if it were stored on a slower storage device, such as a hard disk drive.\n",
      "2. **When running memory-intensive applications:** Some applications, such as video editing software or CAD software, require a lot of memory to run properly. If you do not have enough memory, the application may crash or run very slowly. In these cases, you can use extra memory to give the application the resources it needs to run smoothly.\n",
      "3. **When multitasking:** If you are running multiple applications at the same time, you may need extra memory to prevent the applications from slowing down or crashing. This is because each application requires a certain amount of memory to run, and if there is not enough memory available, the applications will have to compete for resources.\n",
      "4. **When gaming:** Many modern games require a lot of memory to run properly. If you do not have enough memory, the game may crash or run very slowly. In these cases, you can use extra memory to give the game the resources it needs to run smoothly.\n",
      "5. **When running virtual machines:** If you are running virtual machines, you will need extra memory to allocate to each virtual machine. This is because each virtual machine requires its own operating system and applications, which all take up memory.\n",
      "Human: There are various types of memory in Langchain. When to use which type?\n",
      "AI:\u001b[0m\n",
      "\n",
      "\u001b[1m> Finished chain.\u001b[0m\n",
      "\n",
      "\n",
      "\u001b[1m> Entering new ConversationChain chain...\u001b[0m\n",
      "Prompt after formatting:\n",
      "\u001b[32;1m\u001b[1;3mThe following is a friendly conversation between a human and an AI. The AI is talkative and provides lots of specific details from its context. If the AI does not know the answer to a question, it truthfully says it does not know.\n",
      "\n",
      "Current conversation:\n",
      "Human: Hi there!\n",
      "AI: Hello! How may I assist you today?\n",
      "Human: In what scenarios extra memory should be used?\n",
      "AI: 1. **When working with large datasets:** If you are working with datasets that are too large to fit into the main memory of your computer, you can use extra memory to store the data. This will allow you to access the data more quickly than if it were stored on a slower storage device, such as a hard disk drive.\n",
      "2. **When running memory-intensive applications:** Some applications, such as video editing software or CAD software, require a lot of memory to run properly. If you do not have enough memory, the application may crash or run very slowly. In these cases, you can use extra memory to give the application the resources it needs to run smoothly.\n",
      "3. **When multitasking:** If you are running multiple applications at the same time, you may need extra memory to prevent the applications from slowing down or crashing. This is because each application requires a certain amount of memory to run, and if there is not enough memory available, the applications will have to compete for resources.\n",
      "4. **When gaming:** Many modern games require a lot of memory to run properly. If you do not have enough memory, the game may crash or run very slowly. In these cases, you can use extra memory to give the game the resources it needs to run smoothly.\n",
      "5. **When running virtual machines:** If you are running virtual machines, you will need extra memory to allocate to each virtual machine. This is because each virtual machine requires its own operating system and applications, which all take up memory.\n",
      "Human: There are various types of memory in Langchain. When to use which type?\n",
      "AI: **DRAM (Dynamic Random Access Memory):**\n",
      "\n",
      "* **Use:** DRAM is the most common type of memory used in computers. It is relatively inexpensive and provides good performance.\n",
      "* **When to use:** DRAM is a good choice for general-purpose applications, such as running operating systems, applications, and games.\n",
      "\n",
      "**SRAM (Static Random Access Memory):**\n",
      "\n",
      "* **Use:** SRAM is a type of memory that is faster than DRAM, but it is also more expensive.\n",
      "* **When to use:** SRAM is often used in applications where speed is critical, such as in graphics cards and high-performance computing.\n",
      "\n",
      "**ROM (Read-Only Memory):**\n",
      "\n",
      "* **Use:** ROM is a type of memory that can only be read, not written to. It is often used to store firmware and other code that does not need to be changed.\n",
      "* **When to use:** ROM is a good choice for storing code that does not need to be updated, such as the BIOS of a computer.\n",
      "\n",
      "**Flash Memory:**\n",
      "\n",
      "* **Use:** Flash memory is a type of non-volatile memory that can be erased and rewritten many times. It is often used in USB drives, solid-state drives, and other portable storage devices.\n",
      "* **When to use:** Flash memory is a good choice for storing data that needs to be portable or that does not need to be accessed very quickly.\n",
      "\n",
      "**NVRAM (Non-Volatile Random Access Memory):**\n",
      "\n",
      "* **Use:** NVRAM is a type of memory that retains its data even when the power is turned off. It is often used in servers and other mission-critical applications.\n",
      "* **When to use:** NVRAM is a good choice for storing data that needs to be protected against power outages or other disruptions.\n",
      "Human: Do you remember what was our first message?\n",
      "AI:\u001b[0m\n",
      "\n",
      "\u001b[1m> Finished chain.\u001b[0m\n",
      "Yes, I do. Our first message was:\n",
      "\n",
      "Human: Hi there!\n",
      "AI: Hello! How may I assist you today?\n"
     ]
    }
   ],
   "source": [
    "output = conversation.predict(input=\"In what scenarios extra memory should be used?\")\n",
    "output = conversation.predict(input=\"There are various types of memory in Langchain. When to use which type?\")\n",
    "output = conversation.predict(input=\"Do you remember what was our first message?\")\n",
    "\n",
    "print(output)"
   ]
  },
  {
   "cell_type": "code",
   "execution_count": null,
   "metadata": {},
   "outputs": [],
   "source": []
  }
 ],
 "metadata": {
  "kernelspec": {
   "display_name": "langchain",
   "language": "python",
   "name": "python3"
  },
  "language_info": {
   "codemirror_mode": {
    "name": "ipython",
    "version": 3
   },
   "file_extension": ".py",
   "mimetype": "text/x-python",
   "name": "python",
   "nbconvert_exporter": "python",
   "pygments_lexer": "ipython3",
   "version": "3.10.0"
  }
 },
 "nbformat": 4,
 "nbformat_minor": 2
}

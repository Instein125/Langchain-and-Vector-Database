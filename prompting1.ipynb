{
 "cells": [
  {
   "cell_type": "code",
   "execution_count": 3,
   "metadata": {},
   "outputs": [],
   "source": [
    "from langchain_google_genai import ChatGoogleGenerativeAI\n",
    "from langchain import PromptTemplate, LLMChain"
   ]
  },
  {
   "cell_type": "code",
   "execution_count": 5,
   "metadata": {},
   "outputs": [],
   "source": [
    "template = \"\"\"Act as a comedy writer and give me a short script for a serious play with comedic tone. \n",
    "Write a script for the given title: {title} based on year: {year}.\n",
    "\"\"\"\n",
    "\n",
    "prompt = PromptTemplate(template = template, input_variables=['title', 'year'])"
   ]
  },
  {
   "cell_type": "code",
   "execution_count": 6,
   "metadata": {},
   "outputs": [],
   "source": [
    "llm = ChatGoogleGenerativeAI(model=\"gemini-pro\", temperature=0)"
   ]
  },
  {
   "cell_type": "code",
   "execution_count": 7,
   "metadata": {},
   "outputs": [],
   "source": [
    "input_data = {'title': \"Shutter Island\", 'year': '2030'}\n",
    "\n",
    "chain = LLMChain(llm=llm, prompt= prompt)\n",
    "\n",
    "response = chain.run(input_data)"
   ]
  },
  {
   "cell_type": "code",
   "execution_count": 8,
   "metadata": {},
   "outputs": [
    {
     "name": "stdout",
     "output_type": "stream",
     "text": [
      "Title: Shutter Island 2030: A Comedic Mystery\n",
      "\n",
      "Scene 1:\n",
      "\n",
      "[INT. SHUTTER ISLAND MENTAL INSTITUTION - DAY]\n",
      "\n",
      "A group of tourists are being led on a tour of the infamous Shutter Island Mental Institution. The tour guide, a quirky and eccentric character named Dr. Quirky, leads the group through the eerie corridors of the institution.\n",
      "\n",
      "DR. QUIRKY: (in a dramatic voice) Welcome to Shutter Island, ladies and gentlemen! This is where the most notorious criminals and lunatics are kept. Are you ready for a thrilling journey into the depths of madness?\n",
      "\n",
      "The tourists, a mix of curious and slightly apprehensive individuals, follow Dr. Quirky as he leads them to the first cell.\n",
      "\n",
      "DR. QUIRKY: (pointing to the cell) This is where we have our first patient, Mr. Giggles. He's a bit of a joker, always cracking jokes and making us laugh. But don't let his humor fool you, he's as crazy as a bag of cats!\n",
      "\n",
      "The tourists peer into the cell and see Mr. Giggles, a disheveled man with a wide grin and a mischievous twinkle in his eyes.\n",
      "\n",
      "MR. GIGGLES: (in a high-pitched voice) Hey there, folks! Want to hear a joke? Why did the chicken cross the road? To get to the other side! Hahahaha!\n",
      "\n",
      "The tourists chuckle nervously, unsure how to react to Mr. Giggles' antics.\n",
      "\n",
      "DR. QUIRKY: (shaking his head) See what I mean? He's a real riot, isn't he?\n",
      "\n",
      "Scene 2:\n",
      "\n",
      "[INT. ANOTHER CELL - DAY]\n",
      "\n",
      "The tour group moves on to the next cell, where they encounter Mrs. Chatterbox, a woman who can't stop talking.\n",
      "\n",
      "MRS. CHATTERBOX: (talking rapidly) Oh my goodness, hello there! I'm Mrs. Chatterbox, and I have so much to tell you! Did you know that I once met Elvis Presley? He was such a handsome man, and he had the most amazing sideburns! And have you heard about the time I won a pie-eating contest? I ate six pies in under ten minutes!\n",
      "\n",
      "The tourists try to keep up with Mrs. Chatterbox's endless chatter, but it's a futile effort.\n",
      "\n",
      "DR. QUIRKY: (trying to interrupt) Mrs. Chatterbox, please give our guests a chance to breathe!\n",
      "\n",
      "MRS. CHATTERBOX: (ignoring him) Oh, I'm sorry, did I talk too much? I just get so excited when I meet new people!\n",
      "\n",
      "The tourists exchange amused glances, realizing that they've stumbled upon a truly unique character.\n",
      "\n",
      "Scene 3:\n",
      "\n",
      "[INT. THE INSTITUTION'S CAFETERIA - DAY]\n",
      "\n",
      "The tour group is now in the cafeteria, where they are served a bizarre lunch consisting of green Jell-O and rubbery chicken nuggets.\n",
      "\n",
      "DR. QUIRKY: (enthusiastically) Enjoy your meal, everyone! This is our famous Shutter Island cuisine, made with love and a dash of insanity!\n",
      "\n",
      "The tourists hesitantly take a bite of the food, their expressions ranging from disgust to amusement.\n",
      "\n",
      "TOURIST 1: (grimacing) This Jell-O tastes like it's been sitting here since the 1950s!\n",
      "\n",
      "TOURIST 2: (trying to swallow a chicken nugget) I think I'm going to be sick...\n",
      "\n",
      "DR. QUIRKY: (laughing) Oh, come on, it's not that bad! Besides, it's all part of the Shutter Island experience!\n",
      "\n",
      "The tourists try to make the best of the situation, laughing and joking about the inedible food.\n",
      "\n",
      "Scene 4:\n",
      "\n",
      "[INT. THE INSTITUTION'S COURTYARD - DAY]\n",
      "\n",
      "The tour concludes in the courtyard, where the tourists are treated to a performance by the Shutter Island inmates. The inmates, dressed in colorful costumes, put on a hilarious show that includes singing, dancing, and even a juggling act.\n",
      "\n",
      "The tourists are thoroughly entertained by the inmates' antics, and they leave Shutter Island with a newfound appreciation for the absurdity and humor that can be found even in the darkest of places.\n"
     ]
    }
   ],
   "source": [
    "print(response)"
   ]
  },
  {
   "cell_type": "markdown",
   "metadata": {},
   "source": [
    "# Few Shot Prompting"
   ]
  },
  {
   "cell_type": "code",
   "execution_count": 9,
   "metadata": {},
   "outputs": [],
   "source": [
    "from langchain import PromptTemplate, FewShotPromptTemplate, LLMChain\n",
    "from langchain_google_genai import ChatGoogleGenerativeAI"
   ]
  },
  {
   "cell_type": "code",
   "execution_count": 11,
   "metadata": {},
   "outputs": [],
   "source": [
    "examples = [\n",
    "    {\"color\": 'red', 'emotion': 'angry'},\n",
    "    {\"color\": 'blue', 'emotion': 'sad'},\n",
    "    {\"color\": 'white', 'emotion': 'spritual'},\n",
    "    {\"color\": 'black', 'emotion': 'evil'},\n",
    "]\n",
    "\n",
    "example_template = \"\"\"Color: {color}\n",
    "Emotion: {emotion} \\n\"\"\"\n",
    "\n",
    "example_prompt = PromptTemplate(\n",
    "    template = example_template,\n",
    "    input_variables = ['color', 'emotion'],\n",
    ")\n",
    "\n",
    "Few_shot_prompt = FewShotPromptTemplate(\n",
    "    examples= examples,\n",
    "    example_prompt= example_prompt,\n",
    "    prefix='Here are some examples of the color and the emotion assosciated with them: \\n\\n',\n",
    "    suffix =\"Now Given the color idenfify the emotion associated with them:\\n\\n Color: {input} \\n Emotion: \",\n",
    "    input_variables = ['input'],\n",
    "    example_separator = '\\n',\n",
    ")\n",
    "\n",
    "formatted_prompt = Few_shot_prompt.format(input = 'Purple')"
   ]
  },
  {
   "cell_type": "code",
   "execution_count": 12,
   "metadata": {},
   "outputs": [],
   "source": [
    "llm = ChatGoogleGenerativeAI(model=\"gemini-pro\", temperature=0)"
   ]
  },
  {
   "cell_type": "code",
   "execution_count": 13,
   "metadata": {},
   "outputs": [],
   "source": [
    "chain = LLMChain(prompt= PromptTemplate(template=formatted_prompt, input_variables=[]), llm=llm)"
   ]
  },
  {
   "cell_type": "code",
   "execution_count": 15,
   "metadata": {},
   "outputs": [],
   "source": [
    "response = chain.run({})"
   ]
  },
  {
   "cell_type": "code",
   "execution_count": 16,
   "metadata": {},
   "outputs": [
    {
     "name": "stdout",
     "output_type": "stream",
     "text": [
      "Emotion: royalty\n"
     ]
    }
   ],
   "source": [
    "print(response)"
   ]
  },
  {
   "cell_type": "code",
   "execution_count": null,
   "metadata": {},
   "outputs": [],
   "source": []
  }
 ],
 "metadata": {
  "kernelspec": {
   "display_name": "langchain",
   "language": "python",
   "name": "python3"
  },
  "language_info": {
   "codemirror_mode": {
    "name": "ipython",
    "version": 3
   },
   "file_extension": ".py",
   "mimetype": "text/x-python",
   "name": "python",
   "nbconvert_exporter": "python",
   "pygments_lexer": "ipython3",
   "version": "3.10.0"
  }
 },
 "nbformat": 4,
 "nbformat_minor": 2
}
